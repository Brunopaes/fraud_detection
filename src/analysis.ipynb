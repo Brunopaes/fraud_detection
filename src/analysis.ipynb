{
 "cells": [
  {
   "cell_type": "code",
   "execution_count": 124,
   "metadata": {},
   "outputs": [
    {
     "name": "stdout",
     "output_type": "stream",
     "text": [
      "Collecting package metadata (current_repodata.json): done\n",
      "Solving environment: done\n",
      "\n",
      "\n",
      "==> WARNING: A newer version of conda exists. <==\n",
      "  current version: 4.7.10\n",
      "  latest version: 4.8.0\n",
      "\n",
      "Please update conda by running\n",
      "\n",
      "    $ conda update -n base -c defaults conda\n",
      "\n",
      "\n",
      "\n",
      "# All requested packages already installed.\n",
      "\n",
      "Collecting package metadata (current_repodata.json): done\n",
      "Solving environment: done\n",
      "\n",
      "\n",
      "==> WARNING: A newer version of conda exists. <==\n",
      "  current version: 4.7.10\n",
      "  latest version: 4.8.0\n",
      "\n",
      "Please update conda by running\n",
      "\n",
      "    $ conda update -n base -c defaults conda\n",
      "\n",
      "\n",
      "\n",
      "# All requested packages already installed.\n",
      "\n",
      "Collecting package metadata (current_repodata.json): done\n",
      "Solving environment: done\n",
      "\n",
      "\n",
      "==> WARNING: A newer version of conda exists. <==\n",
      "  current version: 4.7.10\n",
      "  latest version: 4.8.0\n",
      "\n",
      "Please update conda by running\n",
      "\n",
      "    $ conda update -n base -c defaults conda\n",
      "\n",
      "\n",
      "\n",
      "## Package Plan ##\n",
      "\n",
      "  environment location: /Users/brunopaes/anaconda3/envs/p36\n",
      "\n",
      "  added / updated specs:\n",
      "    - seaborn\n",
      "\n",
      "\n",
      "The following packages will be downloaded:\n",
      "\n",
      "    package                    |            build\n",
      "    ---------------------------|-----------------\n",
      "    pandas-0.25.3              |   py36h0a44026_0        10.3 MB\n",
      "    patsy-0.5.1                |           py36_0         275 KB\n",
      "    seaborn-0.9.0              |     pyh91ea838_1         164 KB\n",
      "    statsmodels-0.10.1         |   py36h1d22016_0         7.0 MB\n",
      "    ------------------------------------------------------------\n",
      "                                           Total:        17.8 MB\n",
      "\n",
      "The following NEW packages will be INSTALLED:\n",
      "\n",
      "  pandas             pkgs/main/osx-64::pandas-0.25.3-py36h0a44026_0\n",
      "  patsy              pkgs/main/osx-64::patsy-0.5.1-py36_0\n",
      "  seaborn            pkgs/main/noarch::seaborn-0.9.0-pyh91ea838_1\n",
      "  statsmodels        pkgs/main/osx-64::statsmodels-0.10.1-py36h1d22016_0\n",
      "\n",
      "\n",
      "\n",
      "Downloading and Extracting Packages\n",
      "seaborn-0.9.0        | 164 KB    | ##################################### | 100% \n",
      "patsy-0.5.1          | 275 KB    | ##################################### | 100% \n",
      "statsmodels-0.10.1   | 7.0 MB    | ##################################### | 100% \n",
      "pandas-0.25.3        | 10.3 MB   | ##################################### | 100% \n",
      "Preparing transaction: done\n",
      "Verifying transaction: done\n",
      "Executing transaction: done\n"
     ]
    }
   ],
   "source": [
    "!conda install --yes scikit-learn\n",
    "!conda install --yes matplotlib\n",
    "!conda install --yes seaborn"
   ]
  },
  {
   "cell_type": "code",
   "execution_count": 203,
   "metadata": {
    "pycharm": {
     "is_executing": false
    }
   },
   "outputs": [],
   "source": [
    "from sklearn.feature_selection import SelectFromModel\n",
    "from sklearn.svm import LinearSVC\n",
    "from sklearn import linear_model\n",
    "\n",
    "import matplotlib.pyplot as plt\n",
    "import seaborn\n",
    "import pandas"
   ]
  },
  {
   "cell_type": "code",
   "execution_count": 3,
   "metadata": {},
   "outputs": [],
   "source": [
    "df = pandas.read_csv('../data/datasource.csv').set_index('Ocorrencia')"
   ]
  },
  {
   "cell_type": "markdown",
   "metadata": {},
   "source": [
    "### Checking duplicated values\n",
    "\n",
    "Assuming that the 'Ocorrencia' is a unique code for the transaction itself. Let's check if there's any duplicated occurrence.\n",
    "\n",
    "```python\n",
    "len(df.index.unique())\n",
    "```\n",
    "If the dataset doesn't present any duplicated values, this piece of code should return, as output, 150.000 data entries. Nevertheless it returned only 64.958 values - meaning that this dataset presents around 85.042 duplicated data entries.\n",
    "\n",
    "```python\n",
    "len(df) - len(df.index.unique())\n",
    "```\n",
    "\n",
    "The duplicated values will be kept on analysis and training in modeling step. Due the nature of this dataset, this duplicate values could have been naturally generated - meaning that one occurrence could occur more than once - or, due the lack of available training material, some transactions could have been artificially generated.\n",
    "\n",
    "--------------------------------"
   ]
  },
  {
   "cell_type": "code",
   "execution_count": 4,
   "metadata": {},
   "outputs": [
    {
     "data": {
      "text/plain": [
       "64958"
      ]
     },
     "execution_count": 4,
     "metadata": {},
     "output_type": "execute_result"
    }
   ],
   "source": [
    "# Checking the number of unique values.\n",
    "len(df.index.unique())"
   ]
  },
  {
   "cell_type": "code",
   "execution_count": 13,
   "metadata": {},
   "outputs": [
    {
     "data": {
      "text/plain": [
       "85042"
      ]
     },
     "execution_count": 13,
     "metadata": {},
     "output_type": "execute_result"
    }
   ],
   "source": [
    "# Checking the number of duplicated entries.\n",
    "len(df) - len(df.index.unique())"
   ]
  },
  {
   "cell_type": "markdown",
   "metadata": {},
   "source": [
    "### Exploratory Analysis\n",
    "\n",
    "Section aimed on checking the data distribution and data behaviour.\n",
    "\n",
    "- N.A. values?\n",
    "- Outliers?\n",
    "- Min.\n",
    "- Max.\n",
    "- Mean.\n",
    "- Stdev.\n",
    "\n",
    "-------------------------"
   ]
  },
  {
   "cell_type": "code",
   "execution_count": 44,
   "metadata": {},
   "outputs": [
    {
     "data": {
      "text/html": [
       "<div>\n",
       "<style scoped>\n",
       "    .dataframe tbody tr th:only-of-type {\n",
       "        vertical-align: middle;\n",
       "    }\n",
       "\n",
       "    .dataframe tbody tr th {\n",
       "        vertical-align: top;\n",
       "    }\n",
       "\n",
       "    .dataframe thead th {\n",
       "        text-align: right;\n",
       "    }\n",
       "</style>\n",
       "<table border=\"1\" class=\"dataframe\">\n",
       "  <thead>\n",
       "    <tr style=\"text-align: right;\">\n",
       "      <th></th>\n",
       "      <th>PP1</th>\n",
       "      <th>PP2</th>\n",
       "      <th>PP3</th>\n",
       "      <th>PP4</th>\n",
       "      <th>PP5</th>\n",
       "      <th>PP6</th>\n",
       "      <th>PP7</th>\n",
       "      <th>PP8</th>\n",
       "      <th>PP9</th>\n",
       "      <th>PP10</th>\n",
       "      <th>...</th>\n",
       "      <th>PP21</th>\n",
       "      <th>PP22</th>\n",
       "      <th>PP23</th>\n",
       "      <th>PP24</th>\n",
       "      <th>PP25</th>\n",
       "      <th>PP26</th>\n",
       "      <th>PP27</th>\n",
       "      <th>PP28</th>\n",
       "      <th>Sacado</th>\n",
       "      <th>Fraude</th>\n",
       "    </tr>\n",
       "  </thead>\n",
       "  <tbody>\n",
       "    <tr>\n",
       "      <td>count</td>\n",
       "      <td>150000.000000</td>\n",
       "      <td>150000.000000</td>\n",
       "      <td>150000.000000</td>\n",
       "      <td>150000.000000</td>\n",
       "      <td>150000.000000</td>\n",
       "      <td>150000.000000</td>\n",
       "      <td>150000.000000</td>\n",
       "      <td>150000.000000</td>\n",
       "      <td>150000.000000</td>\n",
       "      <td>150000.000000</td>\n",
       "      <td>...</td>\n",
       "      <td>150000.000000</td>\n",
       "      <td>150000.000000</td>\n",
       "      <td>150000.000000</td>\n",
       "      <td>150000.000000</td>\n",
       "      <td>150000.000000</td>\n",
       "      <td>150000.000000</td>\n",
       "      <td>150000.000000</td>\n",
       "      <td>150000.000000</td>\n",
       "      <td>150000.000000</td>\n",
       "      <td>150000.000000</td>\n",
       "    </tr>\n",
       "    <tr>\n",
       "      <td>mean</td>\n",
       "      <td>0.058999</td>\n",
       "      <td>-0.000790</td>\n",
       "      <td>-0.192183</td>\n",
       "      <td>-0.037416</td>\n",
       "      <td>0.061588</td>\n",
       "      <td>-0.025715</td>\n",
       "      <td>0.026695</td>\n",
       "      <td>-0.004257</td>\n",
       "      <td>0.028148</td>\n",
       "      <td>-0.003959</td>\n",
       "      <td>...</td>\n",
       "      <td>0.009957</td>\n",
       "      <td>0.027398</td>\n",
       "      <td>0.007275</td>\n",
       "      <td>-0.002739</td>\n",
       "      <td>-0.035211</td>\n",
       "      <td>-0.001127</td>\n",
       "      <td>-0.000535</td>\n",
       "      <td>-0.001028</td>\n",
       "      <td>-88.602261</td>\n",
       "      <td>0.001580</td>\n",
       "    </tr>\n",
       "    <tr>\n",
       "      <td>std</td>\n",
       "      <td>1.894453</td>\n",
       "      <td>1.623712</td>\n",
       "      <td>1.406053</td>\n",
       "      <td>1.397615</td>\n",
       "      <td>1.341265</td>\n",
       "      <td>1.310820</td>\n",
       "      <td>1.194923</td>\n",
       "      <td>1.205874</td>\n",
       "      <td>1.106154</td>\n",
       "      <td>1.075456</td>\n",
       "      <td>...</td>\n",
       "      <td>0.739429</td>\n",
       "      <td>0.707714</td>\n",
       "      <td>0.622620</td>\n",
       "      <td>0.606964</td>\n",
       "      <td>0.506130</td>\n",
       "      <td>0.483787</td>\n",
       "      <td>0.397662</td>\n",
       "      <td>0.307684</td>\n",
       "      <td>247.302373</td>\n",
       "      <td>0.039718</td>\n",
       "    </tr>\n",
       "    <tr>\n",
       "      <td>min</td>\n",
       "      <td>-2.454930</td>\n",
       "      <td>-22.057729</td>\n",
       "      <td>-9.382558</td>\n",
       "      <td>-16.875344</td>\n",
       "      <td>-32.911462</td>\n",
       "      <td>-21.307738</td>\n",
       "      <td>-31.527244</td>\n",
       "      <td>-16.635979</td>\n",
       "      <td>-15.594995</td>\n",
       "      <td>-23.745136</td>\n",
       "      <td>...</td>\n",
       "      <td>-27.202839</td>\n",
       "      <td>-10.503090</td>\n",
       "      <td>-19.002942</td>\n",
       "      <td>-4.022866</td>\n",
       "      <td>-7.519589</td>\n",
       "      <td>-3.220178</td>\n",
       "      <td>-12.152401</td>\n",
       "      <td>-22.620072</td>\n",
       "      <td>-19656.530000</td>\n",
       "      <td>0.000000</td>\n",
       "    </tr>\n",
       "    <tr>\n",
       "      <td>25%</td>\n",
       "      <td>-1.243456</td>\n",
       "      <td>-0.802149</td>\n",
       "      <td>-1.138473</td>\n",
       "      <td>-0.812624</td>\n",
       "      <td>-0.526469</td>\n",
       "      <td>-0.424574</td>\n",
       "      <td>-0.527260</td>\n",
       "      <td>-0.340863</td>\n",
       "      <td>-0.565387</td>\n",
       "      <td>-0.452162</td>\n",
       "      <td>...</td>\n",
       "      <td>-0.165038</td>\n",
       "      <td>-0.466423</td>\n",
       "      <td>-0.128298</td>\n",
       "      <td>-0.431560</td>\n",
       "      <td>-0.369398</td>\n",
       "      <td>-0.247606</td>\n",
       "      <td>-0.090965</td>\n",
       "      <td>-0.078861</td>\n",
       "      <td>-77.662500</td>\n",
       "      <td>0.000000</td>\n",
       "    </tr>\n",
       "    <tr>\n",
       "      <td>50%</td>\n",
       "      <td>0.042647</td>\n",
       "      <td>-0.082193</td>\n",
       "      <td>-0.359076</td>\n",
       "      <td>-0.039549</td>\n",
       "      <td>0.124219</td>\n",
       "      <td>0.245177</td>\n",
       "      <td>-0.013129</td>\n",
       "      <td>-0.037083</td>\n",
       "      <td>0.095975</td>\n",
       "      <td>0.096236</td>\n",
       "      <td>...</td>\n",
       "      <td>0.033794</td>\n",
       "      <td>0.014600</td>\n",
       "      <td>0.020008</td>\n",
       "      <td>-0.049357</td>\n",
       "      <td>-0.071030</td>\n",
       "      <td>0.057265</td>\n",
       "      <td>-0.004792</td>\n",
       "      <td>-0.016759</td>\n",
       "      <td>-22.040000</td>\n",
       "      <td>0.000000</td>\n",
       "    </tr>\n",
       "    <tr>\n",
       "      <td>75%</td>\n",
       "      <td>0.952018</td>\n",
       "      <td>0.588600</td>\n",
       "      <td>0.555060</td>\n",
       "      <td>0.816575</td>\n",
       "      <td>0.751890</td>\n",
       "      <td>0.734024</td>\n",
       "      <td>0.564334</td>\n",
       "      <td>0.193112</td>\n",
       "      <td>0.678488</td>\n",
       "      <td>0.515473</td>\n",
       "      <td>...</td>\n",
       "      <td>0.225362</td>\n",
       "      <td>0.540801</td>\n",
       "      <td>0.164620</td>\n",
       "      <td>0.348762</td>\n",
       "      <td>0.274183</td>\n",
       "      <td>0.331361</td>\n",
       "      <td>0.068544</td>\n",
       "      <td>0.048427</td>\n",
       "      <td>-5.410000</td>\n",
       "      <td>0.000000</td>\n",
       "    </tr>\n",
       "    <tr>\n",
       "      <td>max</td>\n",
       "      <td>36.802320</td>\n",
       "      <td>63.344698</td>\n",
       "      <td>33.680984</td>\n",
       "      <td>5.683171</td>\n",
       "      <td>31.356750</td>\n",
       "      <td>21.929312</td>\n",
       "      <td>43.557242</td>\n",
       "      <td>73.216718</td>\n",
       "      <td>13.434066</td>\n",
       "      <td>24.588262</td>\n",
       "      <td>...</td>\n",
       "      <td>34.830382</td>\n",
       "      <td>10.933144</td>\n",
       "      <td>44.807735</td>\n",
       "      <td>2.824849</td>\n",
       "      <td>10.295397</td>\n",
       "      <td>2.604551</td>\n",
       "      <td>22.565679</td>\n",
       "      <td>11.710896</td>\n",
       "      <td>-0.000000</td>\n",
       "      <td>1.000000</td>\n",
       "    </tr>\n",
       "  </tbody>\n",
       "</table>\n",
       "<p>8 rows × 30 columns</p>\n",
       "</div>"
      ],
      "text/plain": [
       "                 PP1            PP2            PP3            PP4  \\\n",
       "count  150000.000000  150000.000000  150000.000000  150000.000000   \n",
       "mean        0.058999      -0.000790      -0.192183      -0.037416   \n",
       "std         1.894453       1.623712       1.406053       1.397615   \n",
       "min        -2.454930     -22.057729      -9.382558     -16.875344   \n",
       "25%        -1.243456      -0.802149      -1.138473      -0.812624   \n",
       "50%         0.042647      -0.082193      -0.359076      -0.039549   \n",
       "75%         0.952018       0.588600       0.555060       0.816575   \n",
       "max        36.802320      63.344698      33.680984       5.683171   \n",
       "\n",
       "                 PP5            PP6            PP7            PP8  \\\n",
       "count  150000.000000  150000.000000  150000.000000  150000.000000   \n",
       "mean        0.061588      -0.025715       0.026695      -0.004257   \n",
       "std         1.341265       1.310820       1.194923       1.205874   \n",
       "min       -32.911462     -21.307738     -31.527244     -16.635979   \n",
       "25%        -0.526469      -0.424574      -0.527260      -0.340863   \n",
       "50%         0.124219       0.245177      -0.013129      -0.037083   \n",
       "75%         0.751890       0.734024       0.564334       0.193112   \n",
       "max        31.356750      21.929312      43.557242      73.216718   \n",
       "\n",
       "                 PP9           PP10  ...           PP21           PP22  \\\n",
       "count  150000.000000  150000.000000  ...  150000.000000  150000.000000   \n",
       "mean        0.028148      -0.003959  ...       0.009957       0.027398   \n",
       "std         1.106154       1.075456  ...       0.739429       0.707714   \n",
       "min       -15.594995     -23.745136  ...     -27.202839     -10.503090   \n",
       "25%        -0.565387      -0.452162  ...      -0.165038      -0.466423   \n",
       "50%         0.095975       0.096236  ...       0.033794       0.014600   \n",
       "75%         0.678488       0.515473  ...       0.225362       0.540801   \n",
       "max        13.434066      24.588262  ...      34.830382      10.933144   \n",
       "\n",
       "                PP23           PP24           PP25           PP26  \\\n",
       "count  150000.000000  150000.000000  150000.000000  150000.000000   \n",
       "mean        0.007275      -0.002739      -0.035211      -0.001127   \n",
       "std         0.622620       0.606964       0.506130       0.483787   \n",
       "min       -19.002942      -4.022866      -7.519589      -3.220178   \n",
       "25%        -0.128298      -0.431560      -0.369398      -0.247606   \n",
       "50%         0.020008      -0.049357      -0.071030       0.057265   \n",
       "75%         0.164620       0.348762       0.274183       0.331361   \n",
       "max        44.807735       2.824849      10.295397       2.604551   \n",
       "\n",
       "                PP27           PP28         Sacado         Fraude  \n",
       "count  150000.000000  150000.000000  150000.000000  150000.000000  \n",
       "mean       -0.000535      -0.001028     -88.602261       0.001580  \n",
       "std         0.397662       0.307684     247.302373       0.039718  \n",
       "min       -12.152401     -22.620072  -19656.530000       0.000000  \n",
       "25%        -0.090965      -0.078861     -77.662500       0.000000  \n",
       "50%        -0.004792      -0.016759     -22.040000       0.000000  \n",
       "75%         0.068544       0.048427      -5.410000       0.000000  \n",
       "max        22.565679      11.710896      -0.000000       1.000000  \n",
       "\n",
       "[8 rows x 30 columns]"
      ]
     },
     "execution_count": 44,
     "metadata": {},
     "output_type": "execute_result"
    }
   ],
   "source": [
    "df.describe()"
   ]
  },
  {
   "cell_type": "markdown",
   "metadata": {},
   "source": [
    "### Describe Analysis Result\n",
    "\n",
    "This section summarizes the initial analysis on this dataset.\n",
    "\n",
    "The command below allows to summarize each variable and retrieve the main statistical characteristics. \n",
    "\n",
    "```python\n",
    "df.describe()\n",
    "```\n",
    "\n",
    "The first thing to be noticed is at 'Sacado' variable - the amount of money withdrawn. \n",
    "\n",
    "\n",
    "| Statistical Measurement | Value        |\n",
    "| :---------------------: | :----------: |\n",
    "| Mean                    | -88.602261\t |\n",
    "| Standard Deviation      | 247.302373\t |\n",
    "| Min                     | -19656.53    |\n",
    "| Max                     | -0.00        |\n",
    "\n",
    "How can be observed on this chart. The behaviour of 'Sacado' variable is pretty weird. First of all, this variable presents the highest standard deviation of all variables (247.30).\n",
    "\n",
    "```python\n",
    "df.describe().loc['std'].sort_values(ascending=False).head()\n",
    "```\n",
    "\n",
    "The mean, min and max values are pretty strange as well - with all of them being negative or null values. How this values could be negative/null values if this variable it was meant to represent the total withdrawn value of the transaction?\n",
    "\n",
    "__Possible errors:__\n",
    "\n",
    "- Acquistion errors?\n",
    "- Parsing issues?\n",
    "\n",
    "Other variables seems to behave pretty well (well distributed along the mean value - almost a normal curve) - even didn't knowing what they represent (the max values are high? the min values are low?).\n",
    "\n",
    "_obs: Even with the lower deviation. On training, a simple normalization will be made on this dataset._\n",
    "\n",
    "-------------"
   ]
  },
  {
   "cell_type": "code",
   "execution_count": 85,
   "metadata": {},
   "outputs": [
    {
     "data": {
      "text/plain": [
       "Sacado    247.302373\n",
       "PP1         1.894453\n",
       "PP2         1.623712\n",
       "PP3         1.406053\n",
       "PP4         1.397615\n",
       "Name: std, dtype: float64"
      ]
     },
     "execution_count": 85,
     "metadata": {},
     "output_type": "execute_result"
    }
   ],
   "source": [
    "df.describe().loc['std'].sort_values(ascending=False).head()"
   ]
  },
  {
   "cell_type": "markdown",
   "metadata": {},
   "source": [
    "### Some plots\n",
    "\n",
    "On this section are plots for visualizing the dispersion of some 'random' variables.\n",
    "\n",
    "----------------"
   ]
  },
  {
   "cell_type": "code",
   "execution_count": 91,
   "metadata": {},
   "outputs": [
    {
     "data": {
      "text/plain": [
       "array([[<matplotlib.axes._subplots.AxesSubplot object at 0x1a305569e8>,\n",
       "        <matplotlib.axes._subplots.AxesSubplot object at 0x1a305724a8>],\n",
       "       [<matplotlib.axes._subplots.AxesSubplot object at 0x1a305dccc0>,\n",
       "        <matplotlib.axes._subplots.AxesSubplot object at 0x1a306182b0>]],\n",
       "      dtype=object)"
      ]
     },
     "execution_count": 91,
     "metadata": {},
     "output_type": "execute_result"
    },
    {
     "data": {
      "image/png": "[encoded data removed]",
      "text/plain": [
       "<Figure size 432x288 with 4 Axes>"
      ]
     },
     "metadata": {
      "needs_background": "light"
     },
     "output_type": "display_data"
    }
   ],
   "source": [
    "df[['PP1', 'PP2', 'PP21', 'Sacado']].hist()"
   ]
  },
  {
   "cell_type": "code",
   "execution_count": 95,
   "metadata": {},
   "outputs": [
    {
     "data": {
      "text/plain": [
       "<matplotlib.axes._subplots.AxesSubplot at 0x1a30a1eb00>"
      ]
     },
     "execution_count": 95,
     "metadata": {},
     "output_type": "execute_result"
    },
    {
     "data": {
      "image/png": "[encoded data removed]",
      "text/plain": [
       "<Figure size 432x288 with 1 Axes>"
      ]
     },
     "metadata": {
      "needs_background": "light"
     },
     "output_type": "display_data"
    }
   ],
   "source": [
    "# As it can be observed. The Sacado variable has a lot of outliers - removing and analysing it alone \n",
    "# (for not disturbing the scale)\n",
    "df[['PP1', 'PP2', 'PP21', 'Sacado']].boxplot()"
   ]
  },
  {
   "cell_type": "code",
   "execution_count": 94,
   "metadata": {},
   "outputs": [
    {
     "data": {
      "text/plain": [
       "<matplotlib.axes._subplots.AxesSubplot at 0x1a30994940>"
      ]
     },
     "execution_count": 94,
     "metadata": {},
     "output_type": "execute_result"
    },
    {
     "data": {
      "image/png": "[encoded data removed]",
      "text/plain": [
       "<Figure size 432x288 with 1 Axes>"
      ]
     },
     "metadata": {
      "needs_background": "light"
     },
     "output_type": "display_data"
    }
   ],
   "source": [
    "# There are outliers on it - predicted it on histogram.\n",
    "df[['PP1', 'PP2', 'PP21']].boxplot()"
   ]
  },
  {
   "cell_type": "code",
   "execution_count": 97,
   "metadata": {},
   "outputs": [
    {
     "data": {
      "text/plain": [
       "<matplotlib.axes._subplots.AxesSubplot at 0x1a31708da0>"
      ]
     },
     "execution_count": 97,
     "metadata": {},
     "output_type": "execute_result"
    },
    {
     "data": {
      "image/png": "[encoded data removed]",
      "text/plain": [
       "<Figure size 432x288 with 1 Axes>"
      ]
     },
     "metadata": {
      "needs_background": "light"
     },
     "output_type": "display_data"
    }
   ],
   "source": [
    "df[['Sacado']].boxplot()"
   ]
  },
  {
   "cell_type": "markdown",
   "metadata": {},
   "source": [
    "### Seeking for N.A. values\n",
    "\n",
    "This dataset does not present N.A./Blank values.\n",
    "\n",
    "----------------------------"
   ]
  },
  {
   "cell_type": "code",
   "execution_count": 105,
   "metadata": {},
   "outputs": [
    {
     "data": {
      "text/plain": [
       "0"
      ]
     },
     "execution_count": 105,
     "metadata": {},
     "output_type": "execute_result"
    }
   ],
   "source": [
    "sum(df.index.isna())"
   ]
  },
  {
   "cell_type": "code",
   "execution_count": 61,
   "metadata": {},
   "outputs": [
    {
     "data": {
      "text/html": [
       "<div>\n",
       "<style scoped>\n",
       "    .dataframe tbody tr th:only-of-type {\n",
       "        vertical-align: middle;\n",
       "    }\n",
       "\n",
       "    .dataframe tbody tr th {\n",
       "        vertical-align: top;\n",
       "    }\n",
       "\n",
       "    .dataframe thead th {\n",
       "        text-align: right;\n",
       "    }\n",
       "</style>\n",
       "<table border=\"1\" class=\"dataframe\">\n",
       "  <thead>\n",
       "    <tr style=\"text-align: right;\">\n",
       "      <th></th>\n",
       "      <th>na</th>\n",
       "    </tr>\n",
       "    <tr>\n",
       "      <th>columns</th>\n",
       "      <th></th>\n",
       "    </tr>\n",
       "  </thead>\n",
       "  <tbody>\n",
       "    <tr>\n",
       "      <td>PP1</td>\n",
       "      <td>0</td>\n",
       "    </tr>\n",
       "    <tr>\n",
       "      <td>PP2</td>\n",
       "      <td>0</td>\n",
       "    </tr>\n",
       "    <tr>\n",
       "      <td>PP3</td>\n",
       "      <td>0</td>\n",
       "    </tr>\n",
       "    <tr>\n",
       "      <td>PP4</td>\n",
       "      <td>0</td>\n",
       "    </tr>\n",
       "    <tr>\n",
       "      <td>PP5</td>\n",
       "      <td>0</td>\n",
       "    </tr>\n",
       "    <tr>\n",
       "      <td>PP6</td>\n",
       "      <td>0</td>\n",
       "    </tr>\n",
       "    <tr>\n",
       "      <td>PP7</td>\n",
       "      <td>0</td>\n",
       "    </tr>\n",
       "    <tr>\n",
       "      <td>PP8</td>\n",
       "      <td>0</td>\n",
       "    </tr>\n",
       "    <tr>\n",
       "      <td>PP9</td>\n",
       "      <td>0</td>\n",
       "    </tr>\n",
       "    <tr>\n",
       "      <td>PP10</td>\n",
       "      <td>0</td>\n",
       "    </tr>\n",
       "    <tr>\n",
       "      <td>PP11</td>\n",
       "      <td>0</td>\n",
       "    </tr>\n",
       "    <tr>\n",
       "      <td>PP12</td>\n",
       "      <td>0</td>\n",
       "    </tr>\n",
       "    <tr>\n",
       "      <td>PP13</td>\n",
       "      <td>0</td>\n",
       "    </tr>\n",
       "    <tr>\n",
       "      <td>PP14</td>\n",
       "      <td>0</td>\n",
       "    </tr>\n",
       "    <tr>\n",
       "      <td>PP15</td>\n",
       "      <td>0</td>\n",
       "    </tr>\n",
       "    <tr>\n",
       "      <td>PP16</td>\n",
       "      <td>0</td>\n",
       "    </tr>\n",
       "    <tr>\n",
       "      <td>PP17</td>\n",
       "      <td>0</td>\n",
       "    </tr>\n",
       "    <tr>\n",
       "      <td>PP18</td>\n",
       "      <td>0</td>\n",
       "    </tr>\n",
       "    <tr>\n",
       "      <td>PP19</td>\n",
       "      <td>0</td>\n",
       "    </tr>\n",
       "    <tr>\n",
       "      <td>PP20</td>\n",
       "      <td>0</td>\n",
       "    </tr>\n",
       "    <tr>\n",
       "      <td>PP21</td>\n",
       "      <td>0</td>\n",
       "    </tr>\n",
       "    <tr>\n",
       "      <td>PP22</td>\n",
       "      <td>0</td>\n",
       "    </tr>\n",
       "    <tr>\n",
       "      <td>PP23</td>\n",
       "      <td>0</td>\n",
       "    </tr>\n",
       "    <tr>\n",
       "      <td>PP24</td>\n",
       "      <td>0</td>\n",
       "    </tr>\n",
       "    <tr>\n",
       "      <td>PP25</td>\n",
       "      <td>0</td>\n",
       "    </tr>\n",
       "    <tr>\n",
       "      <td>PP26</td>\n",
       "      <td>0</td>\n",
       "    </tr>\n",
       "    <tr>\n",
       "      <td>PP27</td>\n",
       "      <td>0</td>\n",
       "    </tr>\n",
       "    <tr>\n",
       "      <td>PP28</td>\n",
       "      <td>0</td>\n",
       "    </tr>\n",
       "    <tr>\n",
       "      <td>Sacado</td>\n",
       "      <td>0</td>\n",
       "    </tr>\n",
       "    <tr>\n",
       "      <td>Fraude</td>\n",
       "      <td>0</td>\n",
       "    </tr>\n",
       "  </tbody>\n",
       "</table>\n",
       "</div>"
      ],
      "text/plain": [
       "         na\n",
       "columns    \n",
       "PP1       0\n",
       "PP2       0\n",
       "PP3       0\n",
       "PP4       0\n",
       "PP5       0\n",
       "PP6       0\n",
       "PP7       0\n",
       "PP8       0\n",
       "PP9       0\n",
       "PP10      0\n",
       "PP11      0\n",
       "PP12      0\n",
       "PP13      0\n",
       "PP14      0\n",
       "PP15      0\n",
       "PP16      0\n",
       "PP17      0\n",
       "PP18      0\n",
       "PP19      0\n",
       "PP20      0\n",
       "PP21      0\n",
       "PP22      0\n",
       "PP23      0\n",
       "PP24      0\n",
       "PP25      0\n",
       "PP26      0\n",
       "PP27      0\n",
       "PP28      0\n",
       "Sacado    0\n",
       "Fraude    0"
      ]
     },
     "execution_count": 61,
     "metadata": {},
     "output_type": "execute_result"
    }
   ],
   "source": [
    "dict_na = {\n",
    "    'columns': list(df.columns),\n",
    "    'na': []\n",
    "}\n",
    "\n",
    "for i in range(len(df.columns)):\n",
    "    dict_na.get('na').append(sum(df[df.columns[i]].isna()))\n",
    "\n",
    "pandas.DataFrame(dict_na).set_index('columns')"
   ]
  },
  {
   "cell_type": "markdown",
   "metadata": {},
   "source": [
    "### Does this dataset is non-balanced?\n",
    "\n",
    "This section aims on checking if the dataset is non-balanced - are more frauds than non-frauds? Vice-Versa?\n",
    "\n",
    "Table below assumes that the y variable - Fraude - has only 2 unique values - presented in table.\n",
    "\n",
    "```python\n",
    "df.Fraude.unique()\n",
    "```\n",
    "\n",
    "| Value | Meaning   | Total    | Percentage |\n",
    "| :---: | :-------: | :------: | :--------: |\n",
    "| 0     | Non Fraud | 149.763  | 99,842 %   |\n",
    "| 1     | Fraud     | 237      | 0,0158 %   |\n",
    "\n",
    "As can be observed on the table above. It's been assumed that 0 represents a non-fraudulent transaction and 1 represents a fraudulent transaction. This dataset is pretty unbalanced - with less than 1 % being fraudulent transactions (237 data entries). This scenario, on model training steps would be a problem - the model probably will be overfitted in fraudulents occurrences. To prevent it, it must be added some new - artificially generated or naturally acquired - fraudulents data entries.\n",
    "\n",
    "----------------------------------------"
   ]
  },
  {
   "cell_type": "code",
   "execution_count": 210,
   "metadata": {},
   "outputs": [
    {
     "data": {
      "text/plain": [
       "array([0, 1])"
      ]
     },
     "execution_count": 210,
     "metadata": {},
     "output_type": "execute_result"
    }
   ],
   "source": [
    "# Checking how many unique entries this variable presents.\n",
    "df.Fraude.unique()"
   ]
  },
  {
   "cell_type": "code",
   "execution_count": 213,
   "metadata": {},
   "outputs": [
    {
     "name": "stdout",
     "output_type": "stream",
     "text": [
      "149763\n",
      "0.99842\n"
     ]
    }
   ],
   "source": [
    "# Checking how many data entries are non-fraud or 0\n",
    "print(len(df[df['Fraude'] == 0]))\n",
    "\n",
    "# Checking the percentage of non-fraud transactions\n",
    "print(len(df[df['Fraude'] == 0])/len(df.Fraude))"
   ]
  },
  {
   "cell_type": "code",
   "execution_count": 214,
   "metadata": {},
   "outputs": [
    {
     "name": "stdout",
     "output_type": "stream",
     "text": [
      "0.00158\n"
     ]
    }
   ],
   "source": [
    "# Checking how many data entries are fraud or 1\n",
    "len(df[df['Fraude'] == 1])\n",
    "\n",
    "# Checking the percentage of fraud transactions\n",
    "print(len(df[df['Fraude'] == 1])/len(df.Fraude))"
   ]
  },
  {
   "cell_type": "markdown",
   "metadata": {},
   "source": [
    "### Dimensionality Reduction\n",
    "\n",
    "This section aims on reduct the dimensionality of this dataset.\n",
    "\n",
    "__It can be used:__\n",
    "\n",
    "- linear regression, correlation and statistically relevance;\n",
    "- random forests and tree classifiers;\n",
    "- PCA;\n",
    "\n",
    "_obs: despite the robustness of PCA, some articles presents issues on its performance - losing for simpler techniques._\n",
    "\n",
    "-----------------------"
   ]
  },
  {
   "cell_type": "code",
   "execution_count": 23,
   "metadata": {},
   "outputs": [],
   "source": [
    "x = pandas.DataFrame(df[df.columns[0:-1]])\n",
    "y = pandas.DataFrame(df[df.columns[-1]])"
   ]
  },
  {
   "cell_type": "code",
   "execution_count": 200,
   "metadata": {},
   "outputs": [
    {
     "data": {
      "text/plain": [
       "(150000, 9)"
      ]
     },
     "execution_count": 200,
     "metadata": {},
     "output_type": "execute_result"
    }
   ],
   "source": [
    "# Multiple Linear Regression\n",
    "lm = linear_model.LinearRegression().fit(x,y)\n",
    "\n",
    "model = SelectFromModel(lm, prefit=True)\n",
    "model.transform(x).shape"
   ]
  },
  {
   "cell_type": "code",
   "execution_count": 202,
   "metadata": {},
   "outputs": [
    {
     "data": {
      "text/plain": [
       "(150000, 19)"
      ]
     },
     "execution_count": 202,
     "metadata": {},
     "output_type": "execute_result"
    }
   ],
   "source": [
    "# Support Vector Machine\n",
    "lsvc = LinearSVC(C=0.01, penalty=\"l1\", dual=False).fit(x.values, y.Fraude.values)\n",
    "\n",
    "model = SelectFromModel(lsvc, prefit=True)\n",
    "model.transform(x).shape"
   ]
  }
 ],
 "metadata": {
  "kernelspec": {
   "display_name": "Python 3",
   "language": "python",
   "name": "python3"
  },
  "language_info": {
   "codemirror_mode": {
    "name": "ipython",
    "version": 3
   },
   "file_extension": ".py",
   "mimetype": "text/x-python",
   "name": "python",
   "nbconvert_exporter": "python",
   "pygments_lexer": "ipython3",
   "version": "3.6.9"
  },
  "pycharm": {
   "stem_cell": {
    "cell_type": "raw",
    "metadata": {
     "collapsed": false
    },
    "source": []
   }
  }
 },
 "nbformat": 4,
 "nbformat_minor": 1
}

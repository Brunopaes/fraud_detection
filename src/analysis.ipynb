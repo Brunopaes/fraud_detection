{
 "cells": [
  {
   "cell_type": "code",
   "execution_count": 1,
   "metadata": {},
   "outputs": [
    {
     "name": "stdout",
     "output_type": "stream",
     "text": [
      "Collecting package metadata (current_repodata.json): done\n",
      "Solving environment: done\n",
      "\n",
      "\n",
      "==> WARNING: A newer version of conda exists. <==\n",
      "  current version: 4.7.10\n",
      "  latest version: 4.8.0\n",
      "\n",
      "Please update conda by running\n",
      "\n",
      "    $ conda update -n base -c defaults conda\n",
      "\n",
      "\n",
      "\n",
      "# All requested packages already installed.\n",
      "\n",
      "Collecting package metadata (current_repodata.json): done\n",
      "Solving environment: done\n",
      "\n",
      "\n",
      "==> WARNING: A newer version of conda exists. <==\n",
      "  current version: 4.7.10\n",
      "  latest version: 4.8.0\n",
      "\n",
      "Please update conda by running\n",
      "\n",
      "    $ conda update -n base -c defaults conda\n",
      "\n",
      "\n",
      "\n",
      "# All requested packages already installed.\n",
      "\n",
      "Collecting package metadata (current_repodata.json): done\n",
      "Solving environment: done\n",
      "\n",
      "\n",
      "==> WARNING: A newer version of conda exists. <==\n",
      "  current version: 4.7.10\n",
      "  latest version: 4.8.0\n",
      "\n",
      "Please update conda by running\n",
      "\n",
      "    $ conda update -n base -c defaults conda\n",
      "\n",
      "\n",
      "\n",
      "# All requested packages already installed.\n",
      "\n"
     ]
    }
   ],
   "source": [
    "!conda install --yes scikit-learn\n",
    "!conda install --yes matplotlib\n",
    "!conda install --yes seaborn"
   ]
  },
  {
   "cell_type": "code",
   "execution_count": 2,
   "metadata": {
    "pycharm": {
     "is_executing": false
    }
   },
   "outputs": [],
   "source": [
    "from sklearn.feature_selection import SelectFromModel\n",
    "from sklearn.model_selection import train_test_split\n",
    "from sklearn.ensemble import RandomForestClassifier\n",
    "from sklearn.metrics import confusion_matrix\n",
    "from sklearn import preprocessing\n",
    "from sklearn.svm import LinearSVC\n",
    "from sklearn import linear_model\n",
    "\n",
    "import matplotlib.pyplot as plt\n",
    "import datetime\n",
    "import seaborn\n",
    "import pandas"
   ]
  },
  {
   "cell_type": "code",
   "execution_count": 3,
   "metadata": {},
   "outputs": [],
   "source": [
    "df = pandas.read_csv('../data/datasource.csv').set_index('Ocorrencia')"
   ]
  },
  {
   "cell_type": "markdown",
   "metadata": {},
   "source": [
    "### Checking out duplicate values\n",
    "\n",
    "Assuming that the 'Ocorrencia' is a unique code for the transaction itself. Let's check if there's any duplicated occurrence.\n",
    "\n",
    "```python\n",
    "len(df.index.unique())\n",
    "```\n",
    "If the dataset doesn't present any duplicated values, this piece of code should return, as output, 150.000 data entries. Nevertheless it returned only 64.958 values - meaning that this dataset presents around 85.042 duplicated data entries.\n",
    "\n",
    "```python\n",
    "len(df) - len(df.index.unique())\n",
    "```\n",
    "\n",
    "The duplicated values will be kept on analysis and training in modeling step. Due the nature of this dataset, this duplicate values could have been naturally generated - meaning that one occurrence could occur more than once - or, due the lack of available training material, some transactions could have been artificially generated.\n",
    "\n",
    "--------------------------------"
   ]
  },
  {
   "cell_type": "code",
   "execution_count": 4,
   "metadata": {},
   "outputs": [
    {
     "data": {
      "text/plain": [
       "64958"
      ]
     },
     "execution_count": 4,
     "metadata": {},
     "output_type": "execute_result"
    }
   ],
   "source": [
    "# Checking the number of unique values.\n",
    "len(df.index.unique())"
   ]
  },
  {
   "cell_type": "code",
   "execution_count": 5,
   "metadata": {},
   "outputs": [
    {
     "data": {
      "text/plain": [
       "85042"
      ]
     },
     "execution_count": 5,
     "metadata": {},
     "output_type": "execute_result"
    }
   ],
   "source": [
    "# Checking the number of duplicated entries.\n",
    "len(df) - len(df.index.unique())"
   ]
  },
  {
   "cell_type": "markdown",
   "metadata": {},
   "source": [
    "### Exploratory Analysis\n",
    "\n",
    "Section aimed on checking the data distribution and data behaviour.\n",
    "\n",
    "- N.A. values?\n",
    "- Outliers?\n",
    "- Min.\n",
    "- Max.\n",
    "- Mean.\n",
    "- Stdev.\n",
    "\n",
    "-------------------------"
   ]
  },
  {
   "cell_type": "code",
   "execution_count": 6,
   "metadata": {},
   "outputs": [
    {
     "data": {
      "text/html": [
       "<div>\n",
       "<style scoped>\n",
       "    .dataframe tbody tr th:only-of-type {\n",
       "        vertical-align: middle;\n",
       "    }\n",
       "\n",
       "    .dataframe tbody tr th {\n",
       "        vertical-align: top;\n",
       "    }\n",
       "\n",
       "    .dataframe thead th {\n",
       "        text-align: right;\n",
       "    }\n",
       "</style>\n",
       "<table border=\"1\" class=\"dataframe\">\n",
       "  <thead>\n",
       "    <tr style=\"text-align: right;\">\n",
       "      <th></th>\n",
       "      <th>PP1</th>\n",
       "      <th>PP2</th>\n",
       "      <th>PP3</th>\n",
       "      <th>PP4</th>\n",
       "      <th>PP5</th>\n",
       "      <th>PP6</th>\n",
       "      <th>PP7</th>\n",
       "      <th>PP8</th>\n",
       "      <th>PP9</th>\n",
       "      <th>PP10</th>\n",
       "      <th>...</th>\n",
       "      <th>PP21</th>\n",
       "      <th>PP22</th>\n",
       "      <th>PP23</th>\n",
       "      <th>PP24</th>\n",
       "      <th>PP25</th>\n",
       "      <th>PP26</th>\n",
       "      <th>PP27</th>\n",
       "      <th>PP28</th>\n",
       "      <th>Sacado</th>\n",
       "      <th>Fraude</th>\n",
       "    </tr>\n",
       "  </thead>\n",
       "  <tbody>\n",
       "    <tr>\n",
       "      <th>count</th>\n",
       "      <td>150000.000000</td>\n",
       "      <td>150000.000000</td>\n",
       "      <td>150000.000000</td>\n",
       "      <td>150000.000000</td>\n",
       "      <td>150000.000000</td>\n",
       "      <td>150000.000000</td>\n",
       "      <td>150000.000000</td>\n",
       "      <td>150000.000000</td>\n",
       "      <td>150000.000000</td>\n",
       "      <td>150000.000000</td>\n",
       "      <td>...</td>\n",
       "      <td>150000.000000</td>\n",
       "      <td>150000.000000</td>\n",
       "      <td>150000.000000</td>\n",
       "      <td>150000.000000</td>\n",
       "      <td>150000.000000</td>\n",
       "      <td>150000.000000</td>\n",
       "      <td>150000.000000</td>\n",
       "      <td>150000.000000</td>\n",
       "      <td>150000.000000</td>\n",
       "      <td>150000.000000</td>\n",
       "    </tr>\n",
       "    <tr>\n",
       "      <th>mean</th>\n",
       "      <td>0.058999</td>\n",
       "      <td>-0.000790</td>\n",
       "      <td>-0.192183</td>\n",
       "      <td>-0.037416</td>\n",
       "      <td>0.061588</td>\n",
       "      <td>-0.025715</td>\n",
       "      <td>0.026695</td>\n",
       "      <td>-0.004257</td>\n",
       "      <td>0.028148</td>\n",
       "      <td>-0.003959</td>\n",
       "      <td>...</td>\n",
       "      <td>0.009957</td>\n",
       "      <td>0.027398</td>\n",
       "      <td>0.007275</td>\n",
       "      <td>-0.002739</td>\n",
       "      <td>-0.035211</td>\n",
       "      <td>-0.001127</td>\n",
       "      <td>-0.000535</td>\n",
       "      <td>-0.001028</td>\n",
       "      <td>-88.602261</td>\n",
       "      <td>0.001580</td>\n",
       "    </tr>\n",
       "    <tr>\n",
       "      <th>std</th>\n",
       "      <td>1.894453</td>\n",
       "      <td>1.623712</td>\n",
       "      <td>1.406053</td>\n",
       "      <td>1.397615</td>\n",
       "      <td>1.341265</td>\n",
       "      <td>1.310820</td>\n",
       "      <td>1.194923</td>\n",
       "      <td>1.205874</td>\n",
       "      <td>1.106154</td>\n",
       "      <td>1.075456</td>\n",
       "      <td>...</td>\n",
       "      <td>0.739429</td>\n",
       "      <td>0.707714</td>\n",
       "      <td>0.622620</td>\n",
       "      <td>0.606964</td>\n",
       "      <td>0.506130</td>\n",
       "      <td>0.483787</td>\n",
       "      <td>0.397662</td>\n",
       "      <td>0.307684</td>\n",
       "      <td>247.302373</td>\n",
       "      <td>0.039718</td>\n",
       "    </tr>\n",
       "    <tr>\n",
       "      <th>min</th>\n",
       "      <td>-2.454930</td>\n",
       "      <td>-22.057729</td>\n",
       "      <td>-9.382558</td>\n",
       "      <td>-16.875344</td>\n",
       "      <td>-32.911462</td>\n",
       "      <td>-21.307738</td>\n",
       "      <td>-31.527244</td>\n",
       "      <td>-16.635979</td>\n",
       "      <td>-15.594995</td>\n",
       "      <td>-23.745136</td>\n",
       "      <td>...</td>\n",
       "      <td>-27.202839</td>\n",
       "      <td>-10.503090</td>\n",
       "      <td>-19.002942</td>\n",
       "      <td>-4.022866</td>\n",
       "      <td>-7.519589</td>\n",
       "      <td>-3.220178</td>\n",
       "      <td>-12.152401</td>\n",
       "      <td>-22.620072</td>\n",
       "      <td>-19656.530000</td>\n",
       "      <td>0.000000</td>\n",
       "    </tr>\n",
       "    <tr>\n",
       "      <th>25%</th>\n",
       "      <td>-1.243456</td>\n",
       "      <td>-0.802149</td>\n",
       "      <td>-1.138473</td>\n",
       "      <td>-0.812624</td>\n",
       "      <td>-0.526469</td>\n",
       "      <td>-0.424574</td>\n",
       "      <td>-0.527260</td>\n",
       "      <td>-0.340863</td>\n",
       "      <td>-0.565387</td>\n",
       "      <td>-0.452162</td>\n",
       "      <td>...</td>\n",
       "      <td>-0.165038</td>\n",
       "      <td>-0.466423</td>\n",
       "      <td>-0.128298</td>\n",
       "      <td>-0.431560</td>\n",
       "      <td>-0.369398</td>\n",
       "      <td>-0.247606</td>\n",
       "      <td>-0.090965</td>\n",
       "      <td>-0.078861</td>\n",
       "      <td>-77.662500</td>\n",
       "      <td>0.000000</td>\n",
       "    </tr>\n",
       "    <tr>\n",
       "      <th>50%</th>\n",
       "      <td>0.042647</td>\n",
       "      <td>-0.082193</td>\n",
       "      <td>-0.359076</td>\n",
       "      <td>-0.039549</td>\n",
       "      <td>0.124219</td>\n",
       "      <td>0.245177</td>\n",
       "      <td>-0.013129</td>\n",
       "      <td>-0.037083</td>\n",
       "      <td>0.095975</td>\n",
       "      <td>0.096236</td>\n",
       "      <td>...</td>\n",
       "      <td>0.033794</td>\n",
       "      <td>0.014600</td>\n",
       "      <td>0.020008</td>\n",
       "      <td>-0.049357</td>\n",
       "      <td>-0.071030</td>\n",
       "      <td>0.057265</td>\n",
       "      <td>-0.004792</td>\n",
       "      <td>-0.016759</td>\n",
       "      <td>-22.040000</td>\n",
       "      <td>0.000000</td>\n",
       "    </tr>\n",
       "    <tr>\n",
       "      <th>75%</th>\n",
       "      <td>0.952018</td>\n",
       "      <td>0.588600</td>\n",
       "      <td>0.555060</td>\n",
       "      <td>0.816575</td>\n",
       "      <td>0.751890</td>\n",
       "      <td>0.734024</td>\n",
       "      <td>0.564334</td>\n",
       "      <td>0.193112</td>\n",
       "      <td>0.678488</td>\n",
       "      <td>0.515473</td>\n",
       "      <td>...</td>\n",
       "      <td>0.225362</td>\n",
       "      <td>0.540801</td>\n",
       "      <td>0.164620</td>\n",
       "      <td>0.348762</td>\n",
       "      <td>0.274183</td>\n",
       "      <td>0.331361</td>\n",
       "      <td>0.068544</td>\n",
       "      <td>0.048427</td>\n",
       "      <td>-5.410000</td>\n",
       "      <td>0.000000</td>\n",
       "    </tr>\n",
       "    <tr>\n",
       "      <th>max</th>\n",
       "      <td>36.802320</td>\n",
       "      <td>63.344698</td>\n",
       "      <td>33.680984</td>\n",
       "      <td>5.683171</td>\n",
       "      <td>31.356750</td>\n",
       "      <td>21.929312</td>\n",
       "      <td>43.557242</td>\n",
       "      <td>73.216718</td>\n",
       "      <td>13.434066</td>\n",
       "      <td>24.588262</td>\n",
       "      <td>...</td>\n",
       "      <td>34.830382</td>\n",
       "      <td>10.933144</td>\n",
       "      <td>44.807735</td>\n",
       "      <td>2.824849</td>\n",
       "      <td>10.295397</td>\n",
       "      <td>2.604551</td>\n",
       "      <td>22.565679</td>\n",
       "      <td>11.710896</td>\n",
       "      <td>-0.000000</td>\n",
       "      <td>1.000000</td>\n",
       "    </tr>\n",
       "  </tbody>\n",
       "</table>\n",
       "<p>8 rows × 30 columns</p>\n",
       "</div>"
      ],
      "text/plain": [
       "                 PP1            PP2            PP3            PP4  \\\n",
       "count  150000.000000  150000.000000  150000.000000  150000.000000   \n",
       "mean        0.058999      -0.000790      -0.192183      -0.037416   \n",
       "std         1.894453       1.623712       1.406053       1.397615   \n",
       "min        -2.454930     -22.057729      -9.382558     -16.875344   \n",
       "25%        -1.243456      -0.802149      -1.138473      -0.812624   \n",
       "50%         0.042647      -0.082193      -0.359076      -0.039549   \n",
       "75%         0.952018       0.588600       0.555060       0.816575   \n",
       "max        36.802320      63.344698      33.680984       5.683171   \n",
       "\n",
       "                 PP5            PP6            PP7            PP8  \\\n",
       "count  150000.000000  150000.000000  150000.000000  150000.000000   \n",
       "mean        0.061588      -0.025715       0.026695      -0.004257   \n",
       "std         1.341265       1.310820       1.194923       1.205874   \n",
       "min       -32.911462     -21.307738     -31.527244     -16.635979   \n",
       "25%        -0.526469      -0.424574      -0.527260      -0.340863   \n",
       "50%         0.124219       0.245177      -0.013129      -0.037083   \n",
       "75%         0.751890       0.734024       0.564334       0.193112   \n",
       "max        31.356750      21.929312      43.557242      73.216718   \n",
       "\n",
       "                 PP9           PP10  ...           PP21           PP22  \\\n",
       "count  150000.000000  150000.000000  ...  150000.000000  150000.000000   \n",
       "mean        0.028148      -0.003959  ...       0.009957       0.027398   \n",
       "std         1.106154       1.075456  ...       0.739429       0.707714   \n",
       "min       -15.594995     -23.745136  ...     -27.202839     -10.503090   \n",
       "25%        -0.565387      -0.452162  ...      -0.165038      -0.466423   \n",
       "50%         0.095975       0.096236  ...       0.033794       0.014600   \n",
       "75%         0.678488       0.515473  ...       0.225362       0.540801   \n",
       "max        13.434066      24.588262  ...      34.830382      10.933144   \n",
       "\n",
       "                PP23           PP24           PP25           PP26  \\\n",
       "count  150000.000000  150000.000000  150000.000000  150000.000000   \n",
       "mean        0.007275      -0.002739      -0.035211      -0.001127   \n",
       "std         0.622620       0.606964       0.506130       0.483787   \n",
       "min       -19.002942      -4.022866      -7.519589      -3.220178   \n",
       "25%        -0.128298      -0.431560      -0.369398      -0.247606   \n",
       "50%         0.020008      -0.049357      -0.071030       0.057265   \n",
       "75%         0.164620       0.348762       0.274183       0.331361   \n",
       "max        44.807735       2.824849      10.295397       2.604551   \n",
       "\n",
       "                PP27           PP28         Sacado         Fraude  \n",
       "count  150000.000000  150000.000000  150000.000000  150000.000000  \n",
       "mean       -0.000535      -0.001028     -88.602261       0.001580  \n",
       "std         0.397662       0.307684     247.302373       0.039718  \n",
       "min       -12.152401     -22.620072  -19656.530000       0.000000  \n",
       "25%        -0.090965      -0.078861     -77.662500       0.000000  \n",
       "50%        -0.004792      -0.016759     -22.040000       0.000000  \n",
       "75%         0.068544       0.048427      -5.410000       0.000000  \n",
       "max        22.565679      11.710896      -0.000000       1.000000  \n",
       "\n",
       "[8 rows x 30 columns]"
      ]
     },
     "execution_count": 6,
     "metadata": {},
     "output_type": "execute_result"
    }
   ],
   "source": [
    "df.describe()"
   ]
  },
  {
   "cell_type": "markdown",
   "metadata": {},
   "source": [
    "### Describe Analysis Result\n",
    "\n",
    "This section summarizes the initial analysis on this dataset.\n",
    "\n",
    "The command below allows to summarize each variable and retrieve the main statistical characteristics. \n",
    "\n",
    "```python\n",
    "df.describe()\n",
    "```\n",
    "\n",
    "The first thing to be noticed is at 'Sacado' variable - the amount of money withdrawn. \n",
    "\n",
    "\n",
    "| Statistical Measurement | Value        |\n",
    "| :---------------------: | :----------: |\n",
    "| Mean                    | -88.602261\t |\n",
    "| Standard Deviation      | 247.302373\t |\n",
    "| Min                     | -19656.53    |\n",
    "| Max                     | -0.00        |\n",
    "\n",
    "How can be observed on this chart. The behaviour of 'Sacado' variable is pretty weird. First of all, this variable presents the highest standard deviation of all variables (247.30).\n",
    "\n",
    "```python\n",
    "df.describe().loc['std'].sort_values(ascending=False).head()\n",
    "```\n",
    "\n",
    "The mean, min and max values are pretty strange as well - with all of them being negative or null values. How this values could be negative/null values if this variable it was meant to represent the total withdrawn value of the transaction?\n",
    "\n",
    "__Possible errors:__\n",
    "\n",
    "- Acquistion errors?\n",
    "- Parsing issues?\n",
    "\n",
    "Other variables seems to behave pretty well (well distributed along the mean value - almost a normal curve) - even didn't knowing what they represent (the max values are high? the min values are low?).\n",
    "\n",
    "_obs: Even with the lower deviation. On training, a simple normalization will be made on this dataset._\n",
    "\n",
    "-------------"
   ]
  },
  {
   "cell_type": "code",
   "execution_count": 7,
   "metadata": {},
   "outputs": [
    {
     "data": {
      "text/plain": [
       "Sacado    247.302373\n",
       "PP1         1.894453\n",
       "PP2         1.623712\n",
       "PP3         1.406053\n",
       "PP4         1.397615\n",
       "Name: std, dtype: float64"
      ]
     },
     "execution_count": 7,
     "metadata": {},
     "output_type": "execute_result"
    }
   ],
   "source": [
    "df.describe().loc['std'].sort_values(ascending=False).head()"
   ]
  },
  {
   "cell_type": "code",
   "execution_count": 88,
   "metadata": {},
   "outputs": [
    {
     "data": {
      "text/html": [
       "<div>\n",
       "<style scoped>\n",
       "    .dataframe tbody tr th:only-of-type {\n",
       "        vertical-align: middle;\n",
       "    }\n",
       "\n",
       "    .dataframe tbody tr th {\n",
       "        vertical-align: top;\n",
       "    }\n",
       "\n",
       "    .dataframe thead th {\n",
       "        text-align: right;\n",
       "    }\n",
       "</style>\n",
       "<table border=\"1\" class=\"dataframe\">\n",
       "  <thead>\n",
       "    <tr style=\"text-align: right;\">\n",
       "      <th></th>\n",
       "      <th>PP1</th>\n",
       "      <th>PP2</th>\n",
       "      <th>PP3</th>\n",
       "      <th>PP4</th>\n",
       "      <th>PP5</th>\n",
       "      <th>PP6</th>\n",
       "      <th>PP7</th>\n",
       "      <th>PP8</th>\n",
       "      <th>PP9</th>\n",
       "      <th>PP10</th>\n",
       "      <th>...</th>\n",
       "      <th>PP21</th>\n",
       "      <th>PP22</th>\n",
       "      <th>PP23</th>\n",
       "      <th>PP24</th>\n",
       "      <th>PP25</th>\n",
       "      <th>PP26</th>\n",
       "      <th>PP27</th>\n",
       "      <th>PP28</th>\n",
       "      <th>Sacado</th>\n",
       "      <th>Fraude</th>\n",
       "    </tr>\n",
       "    <tr>\n",
       "      <th>Ocorrencia</th>\n",
       "      <th></th>\n",
       "      <th></th>\n",
       "      <th></th>\n",
       "      <th></th>\n",
       "      <th></th>\n",
       "      <th></th>\n",
       "      <th></th>\n",
       "      <th></th>\n",
       "      <th></th>\n",
       "      <th></th>\n",
       "      <th></th>\n",
       "      <th></th>\n",
       "      <th></th>\n",
       "      <th></th>\n",
       "      <th></th>\n",
       "      <th></th>\n",
       "      <th></th>\n",
       "      <th></th>\n",
       "      <th></th>\n",
       "      <th></th>\n",
       "      <th></th>\n",
       "    </tr>\n",
       "  </thead>\n",
       "  <tbody>\n",
       "    <tr>\n",
       "      <th>-44477.0</th>\n",
       "      <td>-1.313605</td>\n",
       "      <td>0.829722</td>\n",
       "      <td>-1.021403</td>\n",
       "      <td>0.744870</td>\n",
       "      <td>1.205293</td>\n",
       "      <td>-0.474090</td>\n",
       "      <td>1.346662</td>\n",
       "      <td>-0.313100</td>\n",
       "      <td>0.343039</td>\n",
       "      <td>-0.636555</td>\n",
       "      <td>...</td>\n",
       "      <td>-0.359877</td>\n",
       "      <td>-1.140092</td>\n",
       "      <td>0.118763</td>\n",
       "      <td>0.255286</td>\n",
       "      <td>-0.402635</td>\n",
       "      <td>0.012719</td>\n",
       "      <td>-0.064429</td>\n",
       "      <td>-0.006987</td>\n",
       "      <td>-0.0</td>\n",
       "      <td>0</td>\n",
       "    </tr>\n",
       "    <tr>\n",
       "      <th>-44599.0</th>\n",
       "      <td>0.984284</td>\n",
       "      <td>-0.117687</td>\n",
       "      <td>-1.252511</td>\n",
       "      <td>-0.698290</td>\n",
       "      <td>-2.807570</td>\n",
       "      <td>-4.183633</td>\n",
       "      <td>0.713125</td>\n",
       "      <td>-1.323068</td>\n",
       "      <td>0.441396</td>\n",
       "      <td>0.177385</td>\n",
       "      <td>...</td>\n",
       "      <td>0.181102</td>\n",
       "      <td>0.720237</td>\n",
       "      <td>0.158528</td>\n",
       "      <td>-0.972914</td>\n",
       "      <td>-0.576616</td>\n",
       "      <td>0.151814</td>\n",
       "      <td>0.023672</td>\n",
       "      <td>0.009284</td>\n",
       "      <td>-0.0</td>\n",
       "      <td>0</td>\n",
       "    </tr>\n",
       "    <tr>\n",
       "      <th>-44763.0</th>\n",
       "      <td>-1.112887</td>\n",
       "      <td>-0.072755</td>\n",
       "      <td>-1.484284</td>\n",
       "      <td>-2.921132</td>\n",
       "      <td>0.892824</td>\n",
       "      <td>-0.369635</td>\n",
       "      <td>0.661314</td>\n",
       "      <td>-0.248757</td>\n",
       "      <td>-0.578535</td>\n",
       "      <td>-0.407350</td>\n",
       "      <td>...</td>\n",
       "      <td>-0.011709</td>\n",
       "      <td>-0.358025</td>\n",
       "      <td>0.118988</td>\n",
       "      <td>-0.419876</td>\n",
       "      <td>-0.590765</td>\n",
       "      <td>-0.215559</td>\n",
       "      <td>-0.043610</td>\n",
       "      <td>-0.025280</td>\n",
       "      <td>-0.0</td>\n",
       "      <td>0</td>\n",
       "    </tr>\n",
       "    <tr>\n",
       "      <th>-44818.0</th>\n",
       "      <td>1.503509</td>\n",
       "      <td>-0.650070</td>\n",
       "      <td>-1.979962</td>\n",
       "      <td>-3.199407</td>\n",
       "      <td>0.183885</td>\n",
       "      <td>-1.864190</td>\n",
       "      <td>1.367814</td>\n",
       "      <td>-0.320220</td>\n",
       "      <td>0.505109</td>\n",
       "      <td>-0.502571</td>\n",
       "      <td>...</td>\n",
       "      <td>-1.031552</td>\n",
       "      <td>-0.808919</td>\n",
       "      <td>0.299368</td>\n",
       "      <td>0.206468</td>\n",
       "      <td>0.547728</td>\n",
       "      <td>-0.419715</td>\n",
       "      <td>-0.168761</td>\n",
       "      <td>0.095962</td>\n",
       "      <td>-0.0</td>\n",
       "      <td>0</td>\n",
       "    </tr>\n",
       "    <tr>\n",
       "      <th>-44890.0</th>\n",
       "      <td>0.700064</td>\n",
       "      <td>-0.436402</td>\n",
       "      <td>-1.074464</td>\n",
       "      <td>2.477506</td>\n",
       "      <td>0.047570</td>\n",
       "      <td>1.623677</td>\n",
       "      <td>-0.634653</td>\n",
       "      <td>0.298907</td>\n",
       "      <td>-0.929959</td>\n",
       "      <td>1.417118</td>\n",
       "      <td>...</td>\n",
       "      <td>-0.096927</td>\n",
       "      <td>-0.247317</td>\n",
       "      <td>0.167330</td>\n",
       "      <td>-0.422878</td>\n",
       "      <td>0.258257</td>\n",
       "      <td>0.294845</td>\n",
       "      <td>0.154354</td>\n",
       "      <td>-0.171619</td>\n",
       "      <td>-0.0</td>\n",
       "      <td>0</td>\n",
       "    </tr>\n",
       "    <tr>\n",
       "      <th>...</th>\n",
       "      <td>...</td>\n",
       "      <td>...</td>\n",
       "      <td>...</td>\n",
       "      <td>...</td>\n",
       "      <td>...</td>\n",
       "      <td>...</td>\n",
       "      <td>...</td>\n",
       "      <td>...</td>\n",
       "      <td>...</td>\n",
       "      <td>...</td>\n",
       "      <td>...</td>\n",
       "      <td>...</td>\n",
       "      <td>...</td>\n",
       "      <td>...</td>\n",
       "      <td>...</td>\n",
       "      <td>...</td>\n",
       "      <td>...</td>\n",
       "      <td>...</td>\n",
       "      <td>...</td>\n",
       "      <td>...</td>\n",
       "      <td>...</td>\n",
       "    </tr>\n",
       "    <tr>\n",
       "      <th>-132454.0</th>\n",
       "      <td>2.061483</td>\n",
       "      <td>-1.641567</td>\n",
       "      <td>1.192412</td>\n",
       "      <td>1.722827</td>\n",
       "      <td>-2.902106</td>\n",
       "      <td>-4.638144</td>\n",
       "      <td>0.356431</td>\n",
       "      <td>4.635032</td>\n",
       "      <td>-2.164227</td>\n",
       "      <td>-1.964215</td>\n",
       "      <td>...</td>\n",
       "      <td>-3.635734</td>\n",
       "      <td>1.272928</td>\n",
       "      <td>-0.418075</td>\n",
       "      <td>-0.624839</td>\n",
       "      <td>0.538000</td>\n",
       "      <td>1.045620</td>\n",
       "      <td>2.046863</td>\n",
       "      <td>0.729384</td>\n",
       "      <td>-0.0</td>\n",
       "      <td>0</td>\n",
       "    </tr>\n",
       "    <tr>\n",
       "      <th>-132892.0</th>\n",
       "      <td>1.197804</td>\n",
       "      <td>0.787945</td>\n",
       "      <td>-0.150943</td>\n",
       "      <td>0.826385</td>\n",
       "      <td>-2.293986</td>\n",
       "      <td>2.391732</td>\n",
       "      <td>-0.302980</td>\n",
       "      <td>0.227648</td>\n",
       "      <td>-0.056401</td>\n",
       "      <td>0.848129</td>\n",
       "      <td>...</td>\n",
       "      <td>-0.116091</td>\n",
       "      <td>0.025749</td>\n",
       "      <td>-0.210352</td>\n",
       "      <td>0.018723</td>\n",
       "      <td>0.485217</td>\n",
       "      <td>0.303273</td>\n",
       "      <td>-0.098812</td>\n",
       "      <td>-0.233373</td>\n",
       "      <td>-0.0</td>\n",
       "      <td>0</td>\n",
       "    </tr>\n",
       "    <tr>\n",
       "      <th>-132944.0</th>\n",
       "      <td>0.190846</td>\n",
       "      <td>-0.555578</td>\n",
       "      <td>-1.115820</td>\n",
       "      <td>0.604743</td>\n",
       "      <td>0.171172</td>\n",
       "      <td>0.313610</td>\n",
       "      <td>-0.152727</td>\n",
       "      <td>-0.045064</td>\n",
       "      <td>-0.511116</td>\n",
       "      <td>0.421987</td>\n",
       "      <td>...</td>\n",
       "      <td>-0.449453</td>\n",
       "      <td>-1.345258</td>\n",
       "      <td>0.190516</td>\n",
       "      <td>-0.112088</td>\n",
       "      <td>0.344460</td>\n",
       "      <td>0.266088</td>\n",
       "      <td>0.165140</td>\n",
       "      <td>-0.045965</td>\n",
       "      <td>-0.0</td>\n",
       "      <td>0</td>\n",
       "    </tr>\n",
       "    <tr>\n",
       "      <th>-133099.0</th>\n",
       "      <td>29.046615</td>\n",
       "      <td>32.362448</td>\n",
       "      <td>3.208013</td>\n",
       "      <td>-11.332812</td>\n",
       "      <td>-15.848810</td>\n",
       "      <td>8.426268</td>\n",
       "      <td>2.832795</td>\n",
       "      <td>2.610682</td>\n",
       "      <td>-3.260821</td>\n",
       "      <td>-4.948269</td>\n",
       "      <td>...</td>\n",
       "      <td>7.835584</td>\n",
       "      <td>-2.253163</td>\n",
       "      <td>-16.722816</td>\n",
       "      <td>-0.695778</td>\n",
       "      <td>-4.381129</td>\n",
       "      <td>-0.654957</td>\n",
       "      <td>-7.126343</td>\n",
       "      <td>2.679944</td>\n",
       "      <td>-0.0</td>\n",
       "      <td>0</td>\n",
       "    </tr>\n",
       "    <tr>\n",
       "      <th>-133105.0</th>\n",
       "      <td>-1.951552</td>\n",
       "      <td>0.431578</td>\n",
       "      <td>-0.194441</td>\n",
       "      <td>-1.224964</td>\n",
       "      <td>0.785216</td>\n",
       "      <td>-0.449868</td>\n",
       "      <td>1.179250</td>\n",
       "      <td>-0.321827</td>\n",
       "      <td>-1.586145</td>\n",
       "      <td>-0.165002</td>\n",
       "      <td>...</td>\n",
       "      <td>-0.211417</td>\n",
       "      <td>-0.742183</td>\n",
       "      <td>-0.212467</td>\n",
       "      <td>-0.424278</td>\n",
       "      <td>0.280602</td>\n",
       "      <td>0.599937</td>\n",
       "      <td>-0.085679</td>\n",
       "      <td>0.015562</td>\n",
       "      <td>-0.0</td>\n",
       "      <td>0</td>\n",
       "    </tr>\n",
       "  </tbody>\n",
       "</table>\n",
       "<p>954 rows × 30 columns</p>\n",
       "</div>"
      ],
      "text/plain": [
       "                  PP1        PP2       PP3        PP4        PP5       PP6  \\\n",
       "Ocorrencia                                                                   \n",
       "-44477.0    -1.313605   0.829722 -1.021403   0.744870   1.205293 -0.474090   \n",
       "-44599.0     0.984284  -0.117687 -1.252511  -0.698290  -2.807570 -4.183633   \n",
       "-44763.0    -1.112887  -0.072755 -1.484284  -2.921132   0.892824 -0.369635   \n",
       "-44818.0     1.503509  -0.650070 -1.979962  -3.199407   0.183885 -1.864190   \n",
       "-44890.0     0.700064  -0.436402 -1.074464   2.477506   0.047570  1.623677   \n",
       "...               ...        ...       ...        ...        ...       ...   \n",
       "-132454.0    2.061483  -1.641567  1.192412   1.722827  -2.902106 -4.638144   \n",
       "-132892.0    1.197804   0.787945 -0.150943   0.826385  -2.293986  2.391732   \n",
       "-132944.0    0.190846  -0.555578 -1.115820   0.604743   0.171172  0.313610   \n",
       "-133099.0   29.046615  32.362448  3.208013 -11.332812 -15.848810  8.426268   \n",
       "-133105.0   -1.951552   0.431578 -0.194441  -1.224964   0.785216 -0.449868   \n",
       "\n",
       "                 PP7       PP8       PP9      PP10  ...      PP21      PP22  \\\n",
       "Ocorrencia                                          ...                       \n",
       "-44477.0    1.346662 -0.313100  0.343039 -0.636555  ... -0.359877 -1.140092   \n",
       "-44599.0    0.713125 -1.323068  0.441396  0.177385  ...  0.181102  0.720237   \n",
       "-44763.0    0.661314 -0.248757 -0.578535 -0.407350  ... -0.011709 -0.358025   \n",
       "-44818.0    1.367814 -0.320220  0.505109 -0.502571  ... -1.031552 -0.808919   \n",
       "-44890.0   -0.634653  0.298907 -0.929959  1.417118  ... -0.096927 -0.247317   \n",
       "...              ...       ...       ...       ...  ...       ...       ...   \n",
       "-132454.0   0.356431  4.635032 -2.164227 -1.964215  ... -3.635734  1.272928   \n",
       "-132892.0  -0.302980  0.227648 -0.056401  0.848129  ... -0.116091  0.025749   \n",
       "-132944.0  -0.152727 -0.045064 -0.511116  0.421987  ... -0.449453 -1.345258   \n",
       "-133099.0   2.832795  2.610682 -3.260821 -4.948269  ...  7.835584 -2.253163   \n",
       "-133105.0   1.179250 -0.321827 -1.586145 -0.165002  ... -0.211417 -0.742183   \n",
       "\n",
       "                 PP23      PP24      PP25      PP26      PP27      PP28  \\\n",
       "Ocorrencia                                                                \n",
       "-44477.0     0.118763  0.255286 -0.402635  0.012719 -0.064429 -0.006987   \n",
       "-44599.0     0.158528 -0.972914 -0.576616  0.151814  0.023672  0.009284   \n",
       "-44763.0     0.118988 -0.419876 -0.590765 -0.215559 -0.043610 -0.025280   \n",
       "-44818.0     0.299368  0.206468  0.547728 -0.419715 -0.168761  0.095962   \n",
       "-44890.0     0.167330 -0.422878  0.258257  0.294845  0.154354 -0.171619   \n",
       "...               ...       ...       ...       ...       ...       ...   \n",
       "-132454.0   -0.418075 -0.624839  0.538000  1.045620  2.046863  0.729384   \n",
       "-132892.0   -0.210352  0.018723  0.485217  0.303273 -0.098812 -0.233373   \n",
       "-132944.0    0.190516 -0.112088  0.344460  0.266088  0.165140 -0.045965   \n",
       "-133099.0  -16.722816 -0.695778 -4.381129 -0.654957 -7.126343  2.679944   \n",
       "-133105.0   -0.212467 -0.424278  0.280602  0.599937 -0.085679  0.015562   \n",
       "\n",
       "            Sacado  Fraude  \n",
       "Ocorrencia                  \n",
       "-44477.0      -0.0       0  \n",
       "-44599.0      -0.0       0  \n",
       "-44763.0      -0.0       0  \n",
       "-44818.0      -0.0       0  \n",
       "-44890.0      -0.0       0  \n",
       "...            ...     ...  \n",
       "-132454.0     -0.0       0  \n",
       "-132892.0     -0.0       0  \n",
       "-132944.0     -0.0       0  \n",
       "-133099.0     -0.0       0  \n",
       "-133105.0     -0.0       0  \n",
       "\n",
       "[954 rows x 30 columns]"
      ]
     },
     "execution_count": 88,
     "metadata": {},
     "output_type": "execute_result"
    }
   ],
   "source": [
    "df[df.Sacado >= 0]"
   ]
  },
  {
   "cell_type": "markdown",
   "metadata": {},
   "source": [
    "### Some plots\n",
    "\n",
    "On this section are plots for visualizing the dispersion of some 'random' variables.\n",
    "\n",
    "----------------"
   ]
  },
  {
   "cell_type": "code",
   "execution_count": 80,
   "metadata": {},
   "outputs": [
    {
     "data": {
      "text/plain": [
       "array([[<matplotlib.axes._subplots.AxesSubplot object at 0x1a2770d5f8>,\n",
       "        <matplotlib.axes._subplots.AxesSubplot object at 0x1a26cabf60>],\n",
       "       [<matplotlib.axes._subplots.AxesSubplot object at 0x1a26b9f0f0>,\n",
       "        <matplotlib.axes._subplots.AxesSubplot object at 0x1a27136240>]],\n",
       "      dtype=object)"
      ]
     },
     "execution_count": 80,
     "metadata": {},
     "output_type": "execute_result"
    },
    {
     "data": {
      "image/png": "[encoded data removed]",
      "text/plain": [
       "<Figure size 432x288 with 4 Axes>"
      ]
     },
     "metadata": {
      "needs_background": "light"
     },
     "output_type": "display_data"
    }
   ],
   "source": [
    "df[['PP1', 'PP2', 'PP6', 'PP21']].hist()"
   ]
  },
  {
   "cell_type": "code",
   "execution_count": 82,
   "metadata": {},
   "outputs": [
    {
     "data": {
      "text/plain": [
       "<matplotlib.axes._subplots.AxesSubplot at 0x1a27d9ee48>"
      ]
     },
     "execution_count": 82,
     "metadata": {},
     "output_type": "execute_result"
    },
    {
     "data": {
      "image/png": "[encoded data removed]",
      "text/plain": [
       "<Figure size 432x288 with 1 Axes>"
      ]
     },
     "metadata": {
      "needs_background": "light"
     },
     "output_type": "display_data"
    }
   ],
   "source": [
    "# As it can be observed. The Sacado variable has a lot of outliers - removing and analysing it alone \n",
    "# (for not disturbing the scale)\n",
    "df[['PP1', 'PP2', 'PP21', 'PP6', 'Sacado']].boxplot()"
   ]
  },
  {
   "cell_type": "code",
   "execution_count": 81,
   "metadata": {},
   "outputs": [
    {
     "data": {
      "text/plain": [
       "<matplotlib.axes._subplots.AxesSubplot at 0x1a26d074e0>"
      ]
     },
     "execution_count": 81,
     "metadata": {},
     "output_type": "execute_result"
    },
    {
     "data": {
      "image/png": "[encoded data removed]",
      "text/plain": [
       "<Figure size 432x288 with 1 Axes>"
      ]
     },
     "metadata": {
      "needs_background": "light"
     },
     "output_type": "display_data"
    }
   ],
   "source": [
    "# There are outliers on it - predicted it on histogram.\n",
    "df[['PP1', 'PP2', 'PP6', 'PP21']].boxplot()"
   ]
  },
  {
   "cell_type": "code",
   "execution_count": 11,
   "metadata": {},
   "outputs": [
    {
     "data": {
      "text/plain": [
       "<matplotlib.axes._subplots.AxesSubplot at 0x1a1e6e45c0>"
      ]
     },
     "execution_count": 11,
     "metadata": {},
     "output_type": "execute_result"
    },
    {
     "data": {
      "image/png": "[encoded data removed]",
      "text/plain": [
       "<Figure size 432x288 with 1 Axes>"
      ]
     },
     "metadata": {
      "needs_background": "light"
     },
     "output_type": "display_data"
    }
   ],
   "source": [
    "df[['Sacado']].boxplot()"
   ]
  },
  {
   "cell_type": "markdown",
   "metadata": {},
   "source": [
    "### Seeking for N.A. values\n",
    "\n",
    "This dataset does not present N.A./Blank values.\n",
    "\n",
    "----------------------------"
   ]
  },
  {
   "cell_type": "code",
   "execution_count": 12,
   "metadata": {},
   "outputs": [
    {
     "data": {
      "text/plain": [
       "0"
      ]
     },
     "execution_count": 12,
     "metadata": {},
     "output_type": "execute_result"
    }
   ],
   "source": [
    "sum(df.index.isna())"
   ]
  },
  {
   "cell_type": "code",
   "execution_count": 13,
   "metadata": {},
   "outputs": [
    {
     "data": {
      "text/html": [
       "<div>\n",
       "<style scoped>\n",
       "    .dataframe tbody tr th:only-of-type {\n",
       "        vertical-align: middle;\n",
       "    }\n",
       "\n",
       "    .dataframe tbody tr th {\n",
       "        vertical-align: top;\n",
       "    }\n",
       "\n",
       "    .dataframe thead th {\n",
       "        text-align: right;\n",
       "    }\n",
       "</style>\n",
       "<table border=\"1\" class=\"dataframe\">\n",
       "  <thead>\n",
       "    <tr style=\"text-align: right;\">\n",
       "      <th></th>\n",
       "      <th>na</th>\n",
       "    </tr>\n",
       "    <tr>\n",
       "      <th>columns</th>\n",
       "      <th></th>\n",
       "    </tr>\n",
       "  </thead>\n",
       "  <tbody>\n",
       "    <tr>\n",
       "      <th>PP1</th>\n",
       "      <td>0</td>\n",
       "    </tr>\n",
       "    <tr>\n",
       "      <th>PP2</th>\n",
       "      <td>0</td>\n",
       "    </tr>\n",
       "    <tr>\n",
       "      <th>PP3</th>\n",
       "      <td>0</td>\n",
       "    </tr>\n",
       "    <tr>\n",
       "      <th>PP4</th>\n",
       "      <td>0</td>\n",
       "    </tr>\n",
       "    <tr>\n",
       "      <th>PP5</th>\n",
       "      <td>0</td>\n",
       "    </tr>\n",
       "    <tr>\n",
       "      <th>PP6</th>\n",
       "      <td>0</td>\n",
       "    </tr>\n",
       "    <tr>\n",
       "      <th>PP7</th>\n",
       "      <td>0</td>\n",
       "    </tr>\n",
       "    <tr>\n",
       "      <th>PP8</th>\n",
       "      <td>0</td>\n",
       "    </tr>\n",
       "    <tr>\n",
       "      <th>PP9</th>\n",
       "      <td>0</td>\n",
       "    </tr>\n",
       "    <tr>\n",
       "      <th>PP10</th>\n",
       "      <td>0</td>\n",
       "    </tr>\n",
       "    <tr>\n",
       "      <th>PP11</th>\n",
       "      <td>0</td>\n",
       "    </tr>\n",
       "    <tr>\n",
       "      <th>PP12</th>\n",
       "      <td>0</td>\n",
       "    </tr>\n",
       "    <tr>\n",
       "      <th>PP13</th>\n",
       "      <td>0</td>\n",
       "    </tr>\n",
       "    <tr>\n",
       "      <th>PP14</th>\n",
       "      <td>0</td>\n",
       "    </tr>\n",
       "    <tr>\n",
       "      <th>PP15</th>\n",
       "      <td>0</td>\n",
       "    </tr>\n",
       "    <tr>\n",
       "      <th>PP16</th>\n",
       "      <td>0</td>\n",
       "    </tr>\n",
       "    <tr>\n",
       "      <th>PP17</th>\n",
       "      <td>0</td>\n",
       "    </tr>\n",
       "    <tr>\n",
       "      <th>PP18</th>\n",
       "      <td>0</td>\n",
       "    </tr>\n",
       "    <tr>\n",
       "      <th>PP19</th>\n",
       "      <td>0</td>\n",
       "    </tr>\n",
       "    <tr>\n",
       "      <th>PP20</th>\n",
       "      <td>0</td>\n",
       "    </tr>\n",
       "    <tr>\n",
       "      <th>PP21</th>\n",
       "      <td>0</td>\n",
       "    </tr>\n",
       "    <tr>\n",
       "      <th>PP22</th>\n",
       "      <td>0</td>\n",
       "    </tr>\n",
       "    <tr>\n",
       "      <th>PP23</th>\n",
       "      <td>0</td>\n",
       "    </tr>\n",
       "    <tr>\n",
       "      <th>PP24</th>\n",
       "      <td>0</td>\n",
       "    </tr>\n",
       "    <tr>\n",
       "      <th>PP25</th>\n",
       "      <td>0</td>\n",
       "    </tr>\n",
       "    <tr>\n",
       "      <th>PP26</th>\n",
       "      <td>0</td>\n",
       "    </tr>\n",
       "    <tr>\n",
       "      <th>PP27</th>\n",
       "      <td>0</td>\n",
       "    </tr>\n",
       "    <tr>\n",
       "      <th>PP28</th>\n",
       "      <td>0</td>\n",
       "    </tr>\n",
       "    <tr>\n",
       "      <th>Sacado</th>\n",
       "      <td>0</td>\n",
       "    </tr>\n",
       "    <tr>\n",
       "      <th>Fraude</th>\n",
       "      <td>0</td>\n",
       "    </tr>\n",
       "  </tbody>\n",
       "</table>\n",
       "</div>"
      ],
      "text/plain": [
       "         na\n",
       "columns    \n",
       "PP1       0\n",
       "PP2       0\n",
       "PP3       0\n",
       "PP4       0\n",
       "PP5       0\n",
       "PP6       0\n",
       "PP7       0\n",
       "PP8       0\n",
       "PP9       0\n",
       "PP10      0\n",
       "PP11      0\n",
       "PP12      0\n",
       "PP13      0\n",
       "PP14      0\n",
       "PP15      0\n",
       "PP16      0\n",
       "PP17      0\n",
       "PP18      0\n",
       "PP19      0\n",
       "PP20      0\n",
       "PP21      0\n",
       "PP22      0\n",
       "PP23      0\n",
       "PP24      0\n",
       "PP25      0\n",
       "PP26      0\n",
       "PP27      0\n",
       "PP28      0\n",
       "Sacado    0\n",
       "Fraude    0"
      ]
     },
     "execution_count": 13,
     "metadata": {},
     "output_type": "execute_result"
    }
   ],
   "source": [
    "dict_na = {\n",
    "    'columns': list(df.columns),\n",
    "    'na': []\n",
    "}\n",
    "\n",
    "for i in range(len(df.columns)):\n",
    "    dict_na.get('na').append(sum(df[df.columns[i]].isna()))\n",
    "\n",
    "pandas.DataFrame(dict_na).set_index('columns')"
   ]
  },
  {
   "cell_type": "markdown",
   "metadata": {},
   "source": [
    "### Does this dataset is non-balanced?\n",
    "\n",
    "This section aims on checking if the dataset is non-balanced - are more frauds than non-frauds? Vice-Versa?\n",
    "\n",
    "Table below assumes that the y variable - Fraude - has only 2 unique values - presented in table.\n",
    "\n",
    "```python\n",
    "df.Fraude.unique()\n",
    "```\n",
    "\n",
    "| Value | Meaning   | Total    | Percentage |\n",
    "| :---: | :-------: | :------: | :--------: |\n",
    "| 0     | Non Fraud | 149.763  | 99,842 %   |\n",
    "| 1     | Fraud     | 237      | 0,0158 %   |\n",
    "\n",
    "As can be observed on the table above. It's been assumed that 0 represents a non-fraudulent transaction and 1 represents a fraudulent transaction. This dataset is pretty unbalanced - with less than 1 % being fraudulent transactions (237 data entries). This scenario, on model training steps would be a problem - the model probably will be overfitted in fraudulents occurrences. To prevent it, it must be added some new - artificially generated or naturally acquired - fraudulents data entries.\n",
    "\n",
    "----------------------------------------"
   ]
  },
  {
   "cell_type": "code",
   "execution_count": 14,
   "metadata": {},
   "outputs": [
    {
     "data": {
      "text/plain": [
       "array([0, 1])"
      ]
     },
     "execution_count": 14,
     "metadata": {},
     "output_type": "execute_result"
    }
   ],
   "source": [
    "# Checking how many unique entries this variable presents.\n",
    "df.Fraude.unique()"
   ]
  },
  {
   "cell_type": "code",
   "execution_count": 15,
   "metadata": {},
   "outputs": [
    {
     "name": "stdout",
     "output_type": "stream",
     "text": [
      "149763\n",
      "0.99842\n"
     ]
    }
   ],
   "source": [
    "# Checking how many data entries are non-fraud or 0\n",
    "print(len(df[df['Fraude'] == 0]))\n",
    "\n",
    "# Checking the percentage of non-fraud transactions\n",
    "print(len(df[df['Fraude'] == 0])/len(df.Fraude))"
   ]
  },
  {
   "cell_type": "code",
   "execution_count": 16,
   "metadata": {},
   "outputs": [
    {
     "name": "stdout",
     "output_type": "stream",
     "text": [
      "0.00158\n"
     ]
    }
   ],
   "source": [
    "# Checking how many data entries are fraud or 1\n",
    "len(df[df['Fraude'] == 1])\n",
    "\n",
    "# Checking the percentage of fraud transactions\n",
    "print(len(df[df['Fraude'] == 1])/len(df.Fraude))"
   ]
  },
  {
   "cell_type": "markdown",
   "metadata": {},
   "source": [
    "### Dimensionality Reduction\n",
    "\n",
    "This section aims on reduct the dimensionality of this dataset.\n",
    "\n",
    "__It can be used:__\n",
    "\n",
    "- linear regression, correlation and statistically relevance;\n",
    "- PCA;\n",
    "\n",
    "_obs: despite the robustness of PCA, some articles presents issues on its performance - losing to simpler techniques._\n",
    "\n",
    "-----------------------"
   ]
  },
  {
   "cell_type": "code",
   "execution_count": 17,
   "metadata": {},
   "outputs": [],
   "source": [
    "occurrence = pandas.Series(df.index)\n",
    "\n",
    "x = pandas.DataFrame(df[df.columns[1:-1]])\n",
    "y = pandas.DataFrame(df[df.columns[-1]])"
   ]
  },
  {
   "cell_type": "code",
   "execution_count": 18,
   "metadata": {},
   "outputs": [],
   "source": [
    "# Multiple Linear Regression\n",
    "lm = linear_model.LinearRegression().fit(x, y)\n",
    "\n",
    "attr_reduction = SelectFromModel(lm, prefit=True)\n",
    "\n",
    "df_pca = pandas.DataFrame(attr_reduction.transform(x))"
   ]
  },
  {
   "cell_type": "markdown",
   "metadata": {},
   "source": [
    "### Building Predictors\n",
    "\n",
    "Three models will be implemented - if none of them supply the needs, new models could be choosen - and compared. Not only the assertiveness rate will be considered. The most problematic issue are False Negatives occurences - when the occurrence is Fraudulent however the model classified it as a Non-fraudulent occurence - if this happens the model will \"lose\" some points. False positives could be sent to a human validation - not so problematic as False Negatives.\n",
    "\n",
    "__Models__:\n",
    "- Linear Regression;\n",
    "- Support Vector Machines;\n",
    "- Random Forest.\n",
    "\n",
    "_obs: Random forest classifier, when compared with other classifiers, presented 1 advantage point and 1 disavantage point - it wasn't able to converge in polynomial time (when compared to Linear Regression and SVM's times - much bigger time to converge), however it presented the most precise classifiers between all 3 - With lesser False Negatives._\n",
    "\n",
    "_obs: Due the results. A grid search with SVM and Random Forest will not be needed_\n",
    "\n",
    "On this scenario, even with time complexity being an issue - when pipelined in production - the random forest will be chosen into \"production\" step.\n",
    "\n",
    "_obs: My concerns come to reality. All 3 models classifies pretty well non fraudulent transactions. However - due the lack of data - all 3 - at some point and in some level - presented an overfitting in classifying Fraudulent transactions - a further study will be made with Random Forest - the model with the most precise behaviour._\n",
    "\n",
    "------------------------"
   ]
  },
  {
   "cell_type": "code",
   "execution_count": 19,
   "metadata": {},
   "outputs": [],
   "source": [
    "def data_separation(df, proportion=0.2):\n",
    "    \"\"\"\n",
    "    Data separation method.\n",
    "    \"\"\"\n",
    "    return train_test_split(df, test_size=proportion)"
   ]
  },
  {
   "cell_type": "code",
   "execution_count": 20,
   "metadata": {},
   "outputs": [],
   "source": [
    "def time_screening(dt):\n",
    "    \"\"\"\n",
    "    Fitting time performance calculator.\n",
    "    \"\"\"\n",
    "    print(datetime.datetime.now() - dt)"
   ]
  },
  {
   "cell_type": "code",
   "execution_count": 21,
   "metadata": {},
   "outputs": [],
   "source": [
    "results = {\n",
    "    'linear_model': {\n",
    "        'train': [],\n",
    "        'test': [],\n",
    "        'validation': []\n",
    "    },\n",
    "    'svm': {\n",
    "        'train': [],\n",
    "        'test': [],\n",
    "        'validation': []\n",
    "    },\n",
    "    'random_forest': {\n",
    "        'train': [],\n",
    "        'test': [],\n",
    "        'validation': []\n",
    "    }\n",
    "}"
   ]
  },
  {
   "cell_type": "code",
   "execution_count": 22,
   "metadata": {},
   "outputs": [],
   "source": [
    "train, test = data_separation(df)\n",
    "test, validation = data_separation(test, 0.4)"
   ]
  },
  {
   "cell_type": "code",
   "execution_count": 23,
   "metadata": {},
   "outputs": [],
   "source": [
    "# Splitting into train - x and y\n",
    "x_train = pandas.DataFrame(train[train.columns[0:-1]])\n",
    "y_train = pandas.DataFrame(train[train.columns[-1]])\n",
    "\n",
    "# Splitting into test - x and y\n",
    "x_test = pandas.DataFrame(test[test.columns[0:-1]])\n",
    "y_test = pandas.DataFrame(test[test.columns[-1]])\n",
    "\n",
    "# Splitting into validation - x and y\n",
    "x_validation = pandas.DataFrame(validation[validation.columns[0:-1]])\n",
    "y_validation = pandas.DataFrame(validation[validation.columns[-1]])"
   ]
  },
  {
   "cell_type": "code",
   "execution_count": 24,
   "metadata": {},
   "outputs": [
    {
     "name": "stdout",
     "output_type": "stream",
     "text": [
      "0:00:00.337315\n"
     ]
    }
   ],
   "source": [
    "# Multiple Linear Regression\n",
    "begin = datetime.datetime.now()\n",
    "\n",
    "lm = linear_model.LinearRegression().fit(x_train, y_train)\n",
    "\n",
    "time_screening(begin)\n",
    "\n",
    "y_train['Predicted'] = lm.predict(x_train)\n",
    "y_train['Predicted'] = y_train['Predicted'].astype(int)\n",
    "\n",
    "y_test['Predicted'] = lm.predict(x_test)\n",
    "y_test['Predicted'] = y_test['Predicted'].astype(int)\n",
    "\n",
    "y_validation['Validation'] = lm.predict(x_validation)\n",
    "y_validation['Validation'] = y_validation['Validation'].astype(int)"
   ]
  },
  {
   "cell_type": "code",
   "execution_count": 25,
   "metadata": {},
   "outputs": [],
   "source": [
    "results.get('linear_model')['train'] = len(y_train[y_train['Fraude'] == y_train['Predicted']])/len(y_train)\n",
    "results.get('linear_model')['test'] = len(y_test[y_test['Fraude'] == y_test['Predicted']])/len(y_test)\n",
    "results.get('linear_model')['validation'] = len(y_validation[y_validation['Fraude'] == y_validation['Validation']])/len(y_validation)"
   ]
  },
  {
   "cell_type": "code",
   "execution_count": 26,
   "metadata": {},
   "outputs": [
    {
     "data": {
      "text/html": [
       "<div>\n",
       "<style scoped>\n",
       "    .dataframe tbody tr th:only-of-type {\n",
       "        vertical-align: middle;\n",
       "    }\n",
       "\n",
       "    .dataframe tbody tr th {\n",
       "        vertical-align: top;\n",
       "    }\n",
       "\n",
       "    .dataframe thead th {\n",
       "        text-align: right;\n",
       "    }\n",
       "</style>\n",
       "<table border=\"1\" class=\"dataframe\">\n",
       "  <thead>\n",
       "    <tr style=\"text-align: right;\">\n",
       "      <th></th>\n",
       "      <th>Non Fraud</th>\n",
       "      <th>Fraud</th>\n",
       "    </tr>\n",
       "  </thead>\n",
       "  <tbody>\n",
       "    <tr>\n",
       "      <th>Non Fraud</th>\n",
       "      <td>119800</td>\n",
       "      <td>1</td>\n",
       "    </tr>\n",
       "    <tr>\n",
       "      <th>Fraud</th>\n",
       "      <td>168</td>\n",
       "      <td>31</td>\n",
       "    </tr>\n",
       "  </tbody>\n",
       "</table>\n",
       "</div>"
      ],
      "text/plain": [
       "           Non Fraud  Fraud\n",
       "Non Fraud     119800      1\n",
       "Fraud            168     31"
      ]
     },
     "execution_count": 26,
     "metadata": {},
     "output_type": "execute_result"
    }
   ],
   "source": [
    "pandas.DataFrame(confusion_matrix(y_train[['Fraude']], y_train[['Predicted']]), \n",
    "                 ['Non Fraud', 'Fraud'], ['Non Fraud', 'Fraud'])"
   ]
  },
  {
   "cell_type": "code",
   "execution_count": 27,
   "metadata": {
    "scrolled": true
   },
   "outputs": [
    {
     "data": {
      "text/html": [
       "<div>\n",
       "<style scoped>\n",
       "    .dataframe tbody tr th:only-of-type {\n",
       "        vertical-align: middle;\n",
       "    }\n",
       "\n",
       "    .dataframe tbody tr th {\n",
       "        vertical-align: top;\n",
       "    }\n",
       "\n",
       "    .dataframe thead th {\n",
       "        text-align: right;\n",
       "    }\n",
       "</style>\n",
       "<table border=\"1\" class=\"dataframe\">\n",
       "  <thead>\n",
       "    <tr style=\"text-align: right;\">\n",
       "      <th></th>\n",
       "      <th>Non Fraud</th>\n",
       "      <th>Fraud</th>\n",
       "    </tr>\n",
       "  </thead>\n",
       "  <tbody>\n",
       "    <tr>\n",
       "      <th>Non Fraud</th>\n",
       "      <td>17977</td>\n",
       "      <td>0</td>\n",
       "    </tr>\n",
       "    <tr>\n",
       "      <th>Fraud</th>\n",
       "      <td>19</td>\n",
       "      <td>4</td>\n",
       "    </tr>\n",
       "  </tbody>\n",
       "</table>\n",
       "</div>"
      ],
      "text/plain": [
       "           Non Fraud  Fraud\n",
       "Non Fraud      17977      0\n",
       "Fraud             19      4"
      ]
     },
     "execution_count": 27,
     "metadata": {},
     "output_type": "execute_result"
    }
   ],
   "source": [
    "pandas.DataFrame(confusion_matrix(y_test[['Fraude']], y_test[['Predicted']]), \n",
    "                 ['Non Fraud', 'Fraud'], ['Non Fraud', 'Fraud'])"
   ]
  },
  {
   "cell_type": "code",
   "execution_count": 28,
   "metadata": {},
   "outputs": [
    {
     "data": {
      "text/html": [
       "<div>\n",
       "<style scoped>\n",
       "    .dataframe tbody tr th:only-of-type {\n",
       "        vertical-align: middle;\n",
       "    }\n",
       "\n",
       "    .dataframe tbody tr th {\n",
       "        vertical-align: top;\n",
       "    }\n",
       "\n",
       "    .dataframe thead th {\n",
       "        text-align: right;\n",
       "    }\n",
       "</style>\n",
       "<table border=\"1\" class=\"dataframe\">\n",
       "  <thead>\n",
       "    <tr style=\"text-align: right;\">\n",
       "      <th></th>\n",
       "      <th>Non Fraud</th>\n",
       "      <th>Fraud</th>\n",
       "    </tr>\n",
       "  </thead>\n",
       "  <tbody>\n",
       "    <tr>\n",
       "      <th>Non Fraud</th>\n",
       "      <td>11985</td>\n",
       "      <td>0</td>\n",
       "    </tr>\n",
       "    <tr>\n",
       "      <th>Fraud</th>\n",
       "      <td>12</td>\n",
       "      <td>3</td>\n",
       "    </tr>\n",
       "  </tbody>\n",
       "</table>\n",
       "</div>"
      ],
      "text/plain": [
       "           Non Fraud  Fraud\n",
       "Non Fraud      11985      0\n",
       "Fraud             12      3"
      ]
     },
     "execution_count": 28,
     "metadata": {},
     "output_type": "execute_result"
    }
   ],
   "source": [
    "pandas.DataFrame(confusion_matrix(y_validation[['Fraude']], y_validation[['Validation']]), \n",
    "                 ['Non Fraud', 'Fraud'], ['Non Fraud', 'Fraud'])"
   ]
  },
  {
   "cell_type": "code",
   "execution_count": 29,
   "metadata": {},
   "outputs": [
    {
     "name": "stdout",
     "output_type": "stream",
     "text": [
      "0:00:03.284036\n"
     ]
    }
   ],
   "source": [
    "# Linear Support Vector Machine\n",
    "begin = datetime.datetime.now()\n",
    "\n",
    "lsvc = LinearSVC(C=0.01, penalty=\"l1\", dual=False, max_iter=10000).fit(x_train, y_train.Fraude.values)\n",
    "\n",
    "time_screening(begin)\n",
    "\n",
    "y_train['Predicted'] = lsvc.predict(x_train)\n",
    "y_train['Predicted'] = y_train['Predicted'].astype(int)\n",
    "\n",
    "y_test['Predicted'] = lsvc.predict(x_test)\n",
    "y_test['Predicted'] = y_test['Predicted'].astype(int)\n",
    "\n",
    "y_validation['Validation'] = lsvc.predict(x_validation)\n",
    "y_validation['Validation'] = y_validation['Validation'].astype(int)"
   ]
  },
  {
   "cell_type": "code",
   "execution_count": 30,
   "metadata": {},
   "outputs": [],
   "source": [
    "results.get('svm')['train'] = len(y_train[y_train['Fraude'] == y_train['Predicted']])/len(y_train)\n",
    "results.get('svm')['test'] = len(y_test[y_test['Fraude'] == y_test['Predicted']])/len(y_test)\n",
    "results.get('svm')['validation'] = len(y_validation[y_validation['Fraude'] == y_validation['Validation']])/len(y_validation)"
   ]
  },
  {
   "cell_type": "code",
   "execution_count": 31,
   "metadata": {},
   "outputs": [
    {
     "data": {
      "text/html": [
       "<div>\n",
       "<style scoped>\n",
       "    .dataframe tbody tr th:only-of-type {\n",
       "        vertical-align: middle;\n",
       "    }\n",
       "\n",
       "    .dataframe tbody tr th {\n",
       "        vertical-align: top;\n",
       "    }\n",
       "\n",
       "    .dataframe thead th {\n",
       "        text-align: right;\n",
       "    }\n",
       "</style>\n",
       "<table border=\"1\" class=\"dataframe\">\n",
       "  <thead>\n",
       "    <tr style=\"text-align: right;\">\n",
       "      <th></th>\n",
       "      <th>Non Fraud</th>\n",
       "      <th>Fraud</th>\n",
       "    </tr>\n",
       "  </thead>\n",
       "  <tbody>\n",
       "    <tr>\n",
       "      <th>Non Fraud</th>\n",
       "      <td>119788</td>\n",
       "      <td>13</td>\n",
       "    </tr>\n",
       "    <tr>\n",
       "      <th>Fraud</th>\n",
       "      <td>54</td>\n",
       "      <td>145</td>\n",
       "    </tr>\n",
       "  </tbody>\n",
       "</table>\n",
       "</div>"
      ],
      "text/plain": [
       "           Non Fraud  Fraud\n",
       "Non Fraud     119788     13\n",
       "Fraud             54    145"
      ]
     },
     "execution_count": 31,
     "metadata": {},
     "output_type": "execute_result"
    }
   ],
   "source": [
    "pandas.DataFrame(confusion_matrix(y_train[['Fraude']], y_train[['Predicted']]), \n",
    "                 ['Non Fraud', 'Fraud'], ['Non Fraud', 'Fraud'])"
   ]
  },
  {
   "cell_type": "code",
   "execution_count": 32,
   "metadata": {},
   "outputs": [
    {
     "data": {
      "text/html": [
       "<div>\n",
       "<style scoped>\n",
       "    .dataframe tbody tr th:only-of-type {\n",
       "        vertical-align: middle;\n",
       "    }\n",
       "\n",
       "    .dataframe tbody tr th {\n",
       "        vertical-align: top;\n",
       "    }\n",
       "\n",
       "    .dataframe thead th {\n",
       "        text-align: right;\n",
       "    }\n",
       "</style>\n",
       "<table border=\"1\" class=\"dataframe\">\n",
       "  <thead>\n",
       "    <tr style=\"text-align: right;\">\n",
       "      <th></th>\n",
       "      <th>Non Fraud</th>\n",
       "      <th>Fraud</th>\n",
       "    </tr>\n",
       "  </thead>\n",
       "  <tbody>\n",
       "    <tr>\n",
       "      <th>Non Fraud</th>\n",
       "      <td>17974</td>\n",
       "      <td>3</td>\n",
       "    </tr>\n",
       "    <tr>\n",
       "      <th>Fraud</th>\n",
       "      <td>8</td>\n",
       "      <td>15</td>\n",
       "    </tr>\n",
       "  </tbody>\n",
       "</table>\n",
       "</div>"
      ],
      "text/plain": [
       "           Non Fraud  Fraud\n",
       "Non Fraud      17974      3\n",
       "Fraud              8     15"
      ]
     },
     "execution_count": 32,
     "metadata": {},
     "output_type": "execute_result"
    }
   ],
   "source": [
    "pandas.DataFrame(confusion_matrix(y_test[['Fraude']], y_test[['Predicted']]), \n",
    "                 ['Non Fraud', 'Fraud'], ['Non Fraud', 'Fraud'])"
   ]
  },
  {
   "cell_type": "code",
   "execution_count": 33,
   "metadata": {},
   "outputs": [
    {
     "data": {
      "text/html": [
       "<div>\n",
       "<style scoped>\n",
       "    .dataframe tbody tr th:only-of-type {\n",
       "        vertical-align: middle;\n",
       "    }\n",
       "\n",
       "    .dataframe tbody tr th {\n",
       "        vertical-align: top;\n",
       "    }\n",
       "\n",
       "    .dataframe thead th {\n",
       "        text-align: right;\n",
       "    }\n",
       "</style>\n",
       "<table border=\"1\" class=\"dataframe\">\n",
       "  <thead>\n",
       "    <tr style=\"text-align: right;\">\n",
       "      <th></th>\n",
       "      <th>Non Fraud</th>\n",
       "      <th>Fraud</th>\n",
       "    </tr>\n",
       "  </thead>\n",
       "  <tbody>\n",
       "    <tr>\n",
       "      <th>Non Fraud</th>\n",
       "      <td>11982</td>\n",
       "      <td>3</td>\n",
       "    </tr>\n",
       "    <tr>\n",
       "      <th>Fraud</th>\n",
       "      <td>2</td>\n",
       "      <td>13</td>\n",
       "    </tr>\n",
       "  </tbody>\n",
       "</table>\n",
       "</div>"
      ],
      "text/plain": [
       "           Non Fraud  Fraud\n",
       "Non Fraud      11982      3\n",
       "Fraud              2     13"
      ]
     },
     "execution_count": 33,
     "metadata": {},
     "output_type": "execute_result"
    }
   ],
   "source": [
    "pandas.DataFrame(confusion_matrix(y_validation[['Fraude']], y_validation[['Validation']]), \n",
    "                 ['Non Fraud', 'Fraud'], ['Non Fraud', 'Fraud'])"
   ]
  },
  {
   "cell_type": "code",
   "execution_count": 34,
   "metadata": {},
   "outputs": [
    {
     "name": "stdout",
     "output_type": "stream",
     "text": [
      "0:01:50.102289\n"
     ]
    }
   ],
   "source": [
    "# Random Forest\n",
    "begin = datetime.datetime.now()\n",
    "\n",
    "r_forest = RandomForestClassifier(n_estimators=90).fit(x_train, y_train.Fraude.values)\n",
    "\n",
    "time_screening(begin)\n",
    "\n",
    "y_train['Predicted'] = r_forest.predict(x_train)\n",
    "y_train['Predicted'] = y_train['Predicted'].astype(int)\n",
    "\n",
    "y_test['Predicted'] = r_forest.predict(x_test)\n",
    "y_test['Predicted'] = y_test['Predicted'].astype(int)\n",
    "\n",
    "y_validation['Validation'] = r_forest.predict(x_validation)\n",
    "y_validation['Validation'] = y_validation['Validation'].astype(int)"
   ]
  },
  {
   "cell_type": "code",
   "execution_count": 35,
   "metadata": {},
   "outputs": [],
   "source": [
    "results.get('random_forest')['train'] = len(y_train[y_train['Fraude'] == y_train['Predicted']])/len(y_train)\n",
    "results.get('random_forest')['test'] = len(y_test[y_test['Fraude'] == y_test['Predicted']])/len(y_test)\n",
    "results.get('random_forest')['validation'] = len(y_validation[y_validation['Fraude'] == y_validation['Validation']])/len(y_validation)"
   ]
  },
  {
   "cell_type": "code",
   "execution_count": 36,
   "metadata": {
    "scrolled": true
   },
   "outputs": [
    {
     "data": {
      "text/html": [
       "<div>\n",
       "<style scoped>\n",
       "    .dataframe tbody tr th:only-of-type {\n",
       "        vertical-align: middle;\n",
       "    }\n",
       "\n",
       "    .dataframe tbody tr th {\n",
       "        vertical-align: top;\n",
       "    }\n",
       "\n",
       "    .dataframe thead th {\n",
       "        text-align: right;\n",
       "    }\n",
       "</style>\n",
       "<table border=\"1\" class=\"dataframe\">\n",
       "  <thead>\n",
       "    <tr style=\"text-align: right;\">\n",
       "      <th></th>\n",
       "      <th>Non Fraud</th>\n",
       "      <th>Fraud</th>\n",
       "    </tr>\n",
       "  </thead>\n",
       "  <tbody>\n",
       "    <tr>\n",
       "      <th>Non Fraud</th>\n",
       "      <td>119801</td>\n",
       "      <td>0</td>\n",
       "    </tr>\n",
       "    <tr>\n",
       "      <th>Fraud</th>\n",
       "      <td>0</td>\n",
       "      <td>199</td>\n",
       "    </tr>\n",
       "  </tbody>\n",
       "</table>\n",
       "</div>"
      ],
      "text/plain": [
       "           Non Fraud  Fraud\n",
       "Non Fraud     119801      0\n",
       "Fraud              0    199"
      ]
     },
     "execution_count": 36,
     "metadata": {},
     "output_type": "execute_result"
    }
   ],
   "source": [
    "pandas.DataFrame(confusion_matrix(y_train[['Fraude']], y_train[['Predicted']]), \n",
    "                 ['Non Fraud', 'Fraud'], ['Non Fraud', 'Fraud'])"
   ]
  },
  {
   "cell_type": "code",
   "execution_count": 37,
   "metadata": {
    "scrolled": true
   },
   "outputs": [
    {
     "data": {
      "text/html": [
       "<div>\n",
       "<style scoped>\n",
       "    .dataframe tbody tr th:only-of-type {\n",
       "        vertical-align: middle;\n",
       "    }\n",
       "\n",
       "    .dataframe tbody tr th {\n",
       "        vertical-align: top;\n",
       "    }\n",
       "\n",
       "    .dataframe thead th {\n",
       "        text-align: right;\n",
       "    }\n",
       "</style>\n",
       "<table border=\"1\" class=\"dataframe\">\n",
       "  <thead>\n",
       "    <tr style=\"text-align: right;\">\n",
       "      <th></th>\n",
       "      <th>Non Fraud</th>\n",
       "      <th>Fraud</th>\n",
       "    </tr>\n",
       "  </thead>\n",
       "  <tbody>\n",
       "    <tr>\n",
       "      <th>Non Fraud</th>\n",
       "      <td>17976</td>\n",
       "      <td>1</td>\n",
       "    </tr>\n",
       "    <tr>\n",
       "      <th>Fraud</th>\n",
       "      <td>7</td>\n",
       "      <td>16</td>\n",
       "    </tr>\n",
       "  </tbody>\n",
       "</table>\n",
       "</div>"
      ],
      "text/plain": [
       "           Non Fraud  Fraud\n",
       "Non Fraud      17976      1\n",
       "Fraud              7     16"
      ]
     },
     "execution_count": 37,
     "metadata": {},
     "output_type": "execute_result"
    }
   ],
   "source": [
    "pandas.DataFrame(confusion_matrix(y_test[['Fraude']], y_test[['Predicted']]), \n",
    "                 ['Non Fraud', 'Fraud'], ['Non Fraud', 'Fraud'])"
   ]
  },
  {
   "cell_type": "code",
   "execution_count": 38,
   "metadata": {},
   "outputs": [
    {
     "data": {
      "text/html": [
       "<div>\n",
       "<style scoped>\n",
       "    .dataframe tbody tr th:only-of-type {\n",
       "        vertical-align: middle;\n",
       "    }\n",
       "\n",
       "    .dataframe tbody tr th {\n",
       "        vertical-align: top;\n",
       "    }\n",
       "\n",
       "    .dataframe thead th {\n",
       "        text-align: right;\n",
       "    }\n",
       "</style>\n",
       "<table border=\"1\" class=\"dataframe\">\n",
       "  <thead>\n",
       "    <tr style=\"text-align: right;\">\n",
       "      <th></th>\n",
       "      <th>Non Fraud</th>\n",
       "      <th>Fraud</th>\n",
       "    </tr>\n",
       "  </thead>\n",
       "  <tbody>\n",
       "    <tr>\n",
       "      <th>Non Fraud</th>\n",
       "      <td>11982</td>\n",
       "      <td>3</td>\n",
       "    </tr>\n",
       "    <tr>\n",
       "      <th>Fraud</th>\n",
       "      <td>2</td>\n",
       "      <td>13</td>\n",
       "    </tr>\n",
       "  </tbody>\n",
       "</table>\n",
       "</div>"
      ],
      "text/plain": [
       "           Non Fraud  Fraud\n",
       "Non Fraud      11982      3\n",
       "Fraud              2     13"
      ]
     },
     "execution_count": 38,
     "metadata": {},
     "output_type": "execute_result"
    }
   ],
   "source": [
    "pandas.DataFrame(confusion_matrix(y_validation[['Fraude']], y_validation[['Validation']]), \n",
    "                 ['Non Fraud', 'Fraud'], ['Non Fraud', 'Fraud'])"
   ]
  },
  {
   "cell_type": "code",
   "execution_count": 39,
   "metadata": {},
   "outputs": [
    {
     "data": {
      "text/html": [
       "<div>\n",
       "<style scoped>\n",
       "    .dataframe tbody tr th:only-of-type {\n",
       "        vertical-align: middle;\n",
       "    }\n",
       "\n",
       "    .dataframe tbody tr th {\n",
       "        vertical-align: top;\n",
       "    }\n",
       "\n",
       "    .dataframe thead th {\n",
       "        text-align: right;\n",
       "    }\n",
       "</style>\n",
       "<table border=\"1\" class=\"dataframe\">\n",
       "  <thead>\n",
       "    <tr style=\"text-align: right;\">\n",
       "      <th></th>\n",
       "      <th>linear_model</th>\n",
       "      <th>svm</th>\n",
       "      <th>random_forest</th>\n",
       "    </tr>\n",
       "  </thead>\n",
       "  <tbody>\n",
       "    <tr>\n",
       "      <th>train</th>\n",
       "      <td>0.998592</td>\n",
       "      <td>0.999442</td>\n",
       "      <td>1.000000</td>\n",
       "    </tr>\n",
       "    <tr>\n",
       "      <th>test</th>\n",
       "      <td>0.998944</td>\n",
       "      <td>0.999389</td>\n",
       "      <td>0.999556</td>\n",
       "    </tr>\n",
       "    <tr>\n",
       "      <th>validation</th>\n",
       "      <td>0.999000</td>\n",
       "      <td>0.999583</td>\n",
       "      <td>0.999583</td>\n",
       "    </tr>\n",
       "  </tbody>\n",
       "</table>\n",
       "</div>"
      ],
      "text/plain": [
       "            linear_model       svm  random_forest\n",
       "train           0.998592  0.999442       1.000000\n",
       "test            0.998944  0.999389       0.999556\n",
       "validation      0.999000  0.999583       0.999583"
      ]
     },
     "execution_count": 39,
     "metadata": {},
     "output_type": "execute_result"
    }
   ],
   "source": [
    "pandas.DataFrame(results)"
   ]
  },
  {
   "cell_type": "markdown",
   "metadata": {},
   "source": [
    "### Using selected model in \"production\" environment\n",
    "\n",
    "- Normalize data\n",
    "- Split data\n",
    "- fit and predict model\n",
    "\n",
    "-----------------------------------------------------"
   ]
  },
  {
   "cell_type": "code",
   "execution_count": 40,
   "metadata": {},
   "outputs": [],
   "source": [
    "# Data Normalization\n",
    "scaler = preprocessing.MinMaxScaler().fit(df_pca)\n",
    "df_pca_norm = pandas.DataFrame(scaler.transform(df_pca))\n",
    "\n",
    "df_pca_norm['Occurrence'] = occurrence\n",
    "df_pca_norm.set_index('Occurrence', drop=True, inplace=True)"
   ]
  },
  {
   "cell_type": "code",
   "execution_count": 41,
   "metadata": {},
   "outputs": [],
   "source": [
    "# Data separation\n",
    "df_pca_norm['Fraude'] = y\n",
    "\n",
    "train, test = data_separation(df_pca_norm)\n",
    "test, validation = data_separation(test, 0.4)"
   ]
  },
  {
   "cell_type": "code",
   "execution_count": 42,
   "metadata": {},
   "outputs": [],
   "source": [
    "# Splitting into train - x and y\n",
    "x_train = pandas.DataFrame(train[train.columns[0:-1]])\n",
    "y_train = pandas.DataFrame(train[train.columns[-1]])\n",
    "\n",
    "# Splitting into test - x and y\n",
    "x_test = pandas.DataFrame(test[test.columns[0:-1]])\n",
    "y_test = pandas.DataFrame(test[test.columns[-1]])\n",
    "\n",
    "# Splitting into validation - x and y\n",
    "x_validation = pandas.DataFrame(validation[validation.columns[0:-1]])\n",
    "y_validation = pandas.DataFrame(validation[validation.columns[-1]])"
   ]
  },
  {
   "cell_type": "code",
   "execution_count": 43,
   "metadata": {},
   "outputs": [
    {
     "name": "stdout",
     "output_type": "stream",
     "text": [
      "0:00:48.581284\n"
     ]
    }
   ],
   "source": [
    "# Random Forest\n",
    "begin = datetime.datetime.now()\n",
    "\n",
    "r_forest = RandomForestClassifier(n_estimators=90).fit(x_train, y_train.Fraude.values)\n",
    "\n",
    "time_screening(begin)\n",
    "\n",
    "y_train['Predicted'] = r_forest.predict(x_train)\n",
    "y_train['Predicted'] = y_train['Predicted'].astype(int)\n",
    "\n",
    "y_test['Predicted'] = r_forest.predict(x_test)\n",
    "y_test['Predicted'] = y_test['Predicted'].astype(int)\n",
    "\n",
    "y_validation['Validation'] = r_forest.predict(x_validation)\n",
    "y_validation['Validation'] = y_validation['Validation'].astype(int)"
   ]
  },
  {
   "cell_type": "code",
   "execution_count": 44,
   "metadata": {},
   "outputs": [
    {
     "name": "stdout",
     "output_type": "stream",
     "text": [
      "1.0\n",
      "0.9994444444444445\n",
      "0.9993333333333333\n"
     ]
    }
   ],
   "source": [
    "print(len(y_train[y_train['Fraude'] == y_train['Predicted']])/len(y_train))\n",
    "print(len(y_test[y_test['Fraude'] == y_test['Predicted']])/len(y_test))\n",
    "print(len(y_validation[y_validation['Fraude'] == y_validation['Validation']])/len(y_validation))"
   ]
  },
  {
   "cell_type": "code",
   "execution_count": 45,
   "metadata": {},
   "outputs": [
    {
     "data": {
      "text/html": [
       "<div>\n",
       "<style scoped>\n",
       "    .dataframe tbody tr th:only-of-type {\n",
       "        vertical-align: middle;\n",
       "    }\n",
       "\n",
       "    .dataframe tbody tr th {\n",
       "        vertical-align: top;\n",
       "    }\n",
       "\n",
       "    .dataframe thead th {\n",
       "        text-align: right;\n",
       "    }\n",
       "</style>\n",
       "<table border=\"1\" class=\"dataframe\">\n",
       "  <thead>\n",
       "    <tr style=\"text-align: right;\">\n",
       "      <th></th>\n",
       "      <th>Non Fraud</th>\n",
       "      <th>Fraud</th>\n",
       "    </tr>\n",
       "  </thead>\n",
       "  <tbody>\n",
       "    <tr>\n",
       "      <th>Non Fraud</th>\n",
       "      <td>119815</td>\n",
       "      <td>0</td>\n",
       "    </tr>\n",
       "    <tr>\n",
       "      <th>Fraud</th>\n",
       "      <td>0</td>\n",
       "      <td>185</td>\n",
       "    </tr>\n",
       "  </tbody>\n",
       "</table>\n",
       "</div>"
      ],
      "text/plain": [
       "           Non Fraud  Fraud\n",
       "Non Fraud     119815      0\n",
       "Fraud              0    185"
      ]
     },
     "execution_count": 45,
     "metadata": {},
     "output_type": "execute_result"
    }
   ],
   "source": [
    "pandas.DataFrame(confusion_matrix(y_train[['Fraude']], y_train[['Predicted']]), \n",
    "                 ['Non Fraud', 'Fraud'], ['Non Fraud', 'Fraud'])"
   ]
  },
  {
   "cell_type": "code",
   "execution_count": 46,
   "metadata": {},
   "outputs": [
    {
     "data": {
      "text/html": [
       "<div>\n",
       "<style scoped>\n",
       "    .dataframe tbody tr th:only-of-type {\n",
       "        vertical-align: middle;\n",
       "    }\n",
       "\n",
       "    .dataframe tbody tr th {\n",
       "        vertical-align: top;\n",
       "    }\n",
       "\n",
       "    .dataframe thead th {\n",
       "        text-align: right;\n",
       "    }\n",
       "</style>\n",
       "<table border=\"1\" class=\"dataframe\">\n",
       "  <thead>\n",
       "    <tr style=\"text-align: right;\">\n",
       "      <th></th>\n",
       "      <th>Non Fraud</th>\n",
       "      <th>Fraud</th>\n",
       "    </tr>\n",
       "  </thead>\n",
       "  <tbody>\n",
       "    <tr>\n",
       "      <th>Non Fraud</th>\n",
       "      <td>17968</td>\n",
       "      <td>2</td>\n",
       "    </tr>\n",
       "    <tr>\n",
       "      <th>Fraud</th>\n",
       "      <td>8</td>\n",
       "      <td>22</td>\n",
       "    </tr>\n",
       "  </tbody>\n",
       "</table>\n",
       "</div>"
      ],
      "text/plain": [
       "           Non Fraud  Fraud\n",
       "Non Fraud      17968      2\n",
       "Fraud              8     22"
      ]
     },
     "execution_count": 46,
     "metadata": {},
     "output_type": "execute_result"
    }
   ],
   "source": [
    "pandas.DataFrame(confusion_matrix(y_test[['Fraude']], y_test[['Predicted']]), \n",
    "                 ['Non Fraud', 'Fraud'], ['Non Fraud', 'Fraud'])"
   ]
  },
  {
   "cell_type": "code",
   "execution_count": 47,
   "metadata": {},
   "outputs": [
    {
     "data": {
      "text/html": [
       "<div>\n",
       "<style scoped>\n",
       "    .dataframe tbody tr th:only-of-type {\n",
       "        vertical-align: middle;\n",
       "    }\n",
       "\n",
       "    .dataframe tbody tr th {\n",
       "        vertical-align: top;\n",
       "    }\n",
       "\n",
       "    .dataframe thead th {\n",
       "        text-align: right;\n",
       "    }\n",
       "</style>\n",
       "<table border=\"1\" class=\"dataframe\">\n",
       "  <thead>\n",
       "    <tr style=\"text-align: right;\">\n",
       "      <th></th>\n",
       "      <th>Non Fraud</th>\n",
       "      <th>Fraud</th>\n",
       "    </tr>\n",
       "  </thead>\n",
       "  <tbody>\n",
       "    <tr>\n",
       "      <th>Non Fraud</th>\n",
       "      <td>11977</td>\n",
       "      <td>1</td>\n",
       "    </tr>\n",
       "    <tr>\n",
       "      <th>Fraud</th>\n",
       "      <td>7</td>\n",
       "      <td>15</td>\n",
       "    </tr>\n",
       "  </tbody>\n",
       "</table>\n",
       "</div>"
      ],
      "text/plain": [
       "           Non Fraud  Fraud\n",
       "Non Fraud      11977      1\n",
       "Fraud              7     15"
      ]
     },
     "execution_count": 47,
     "metadata": {},
     "output_type": "execute_result"
    }
   ],
   "source": [
    "pandas.DataFrame(confusion_matrix(y_validation[['Fraude']], y_validation[['Validation']]), \n",
    "                 ['Non Fraud', 'Fraud'], ['Non Fraud', 'Fraud'])"
   ]
  },
  {
   "cell_type": "code",
   "execution_count": 48,
   "metadata": {},
   "outputs": [],
   "source": [
    "# Checking if there's overfitting on classifying Frauds - due the low quantity of data entries\n",
    "overfitting = x_validation\n",
    "overfitting['Fraude'] = y_validation['Fraude']\n",
    "\n",
    "aux = x_test\n",
    "aux['Fraude'] = y_test['Fraude']\n",
    "\n",
    "overfitting = overfitting.append(aux)\n",
    "overfitting = overfitting[overfitting['Fraude'] == 1]\n",
    "del(aux)"
   ]
  },
  {
   "cell_type": "code",
   "execution_count": 49,
   "metadata": {},
   "outputs": [],
   "source": [
    "overfitting['Predicted'] = r_forest.predict(overfitting.drop(columns=['Fraude']))"
   ]
  },
  {
   "cell_type": "code",
   "execution_count": 52,
   "metadata": {},
   "outputs": [
    {
     "name": "stdout",
     "output_type": "stream",
     "text": [
      "0.7115384615384616\n"
     ]
    }
   ],
   "source": [
    "# Decay of assertiveness rate\n",
    "print(len(overfitting[overfitting['Fraude'] == overfitting['Predicted']])/len(overfitting))"
   ]
  },
  {
   "cell_type": "code",
   "execution_count": 50,
   "metadata": {},
   "outputs": [
    {
     "data": {
      "text/html": [
       "<div>\n",
       "<style scoped>\n",
       "    .dataframe tbody tr th:only-of-type {\n",
       "        vertical-align: middle;\n",
       "    }\n",
       "\n",
       "    .dataframe tbody tr th {\n",
       "        vertical-align: top;\n",
       "    }\n",
       "\n",
       "    .dataframe thead th {\n",
       "        text-align: right;\n",
       "    }\n",
       "</style>\n",
       "<table border=\"1\" class=\"dataframe\">\n",
       "  <thead>\n",
       "    <tr style=\"text-align: right;\">\n",
       "      <th></th>\n",
       "      <th>Non Fraud</th>\n",
       "      <th>Fraud</th>\n",
       "    </tr>\n",
       "  </thead>\n",
       "  <tbody>\n",
       "    <tr>\n",
       "      <th>Non Fraud</th>\n",
       "      <td>0</td>\n",
       "      <td>0</td>\n",
       "    </tr>\n",
       "    <tr>\n",
       "      <th>Fraud</th>\n",
       "      <td>15</td>\n",
       "      <td>37</td>\n",
       "    </tr>\n",
       "  </tbody>\n",
       "</table>\n",
       "</div>"
      ],
      "text/plain": [
       "           Non Fraud  Fraud\n",
       "Non Fraud          0      0\n",
       "Fraud             15     37"
      ]
     },
     "execution_count": 50,
     "metadata": {},
     "output_type": "execute_result"
    }
   ],
   "source": [
    "pandas.DataFrame(confusion_matrix(overfitting[['Fraude']], overfitting[['Predicted']]), \n",
    "                 ['Non Fraud', 'Fraud'], ['Non Fraud', 'Fraud'])"
   ]
  },
  {
   "cell_type": "markdown",
   "metadata": {},
   "source": [
    "### Summarizing\n",
    "\n",
    "Section aimed on summarizing the methodology of this study and concluding it.\n",
    "\n",
    "#### Checking duplicated values\n",
    "\n",
    "Assuming that the 'Ocorrencia' is a unique code for the transaction itself. Let's check if there's any duplicated occurrence.\n",
    "\n",
    "```python\n",
    "len(df.index.unique())\n",
    "```\n",
    "If the dataset doesn't present any duplicated values, this piece of code should return, as output, 150.000 data entries. Nevertheless it returned only 64.958 values - meaning that this dataset presents around 85.042 duplicated data entries.\n",
    "\n",
    "```python\n",
    "len(df) - len(df.index.unique())\n",
    "```\n",
    "\n",
    "The duplicated values will be kept on analysis and training in modeling step. Due the nature of this dataset, this duplicate values could have been naturally generated - meaning that one occurrence could occur more than once - or, due the lack of available training material, some transactions could have been artificially generated.\n",
    "\n",
    "----------------------------\n",
    "\n",
    "#### Exploratory Analysis\n",
    "\n",
    "Section aimed on checking the data distribution and data behaviour.\n",
    "\n",
    "- N.A. values?\n",
    "- Outliers?\n",
    "- Min.\n",
    "- Max.\n",
    "- Mean.\n",
    "- Stdev.\n",
    "\n",
    "-------------------------\n",
    "\n",
    "#### Describe Exploratory Analysis Result\n",
    "\n",
    "This section summarizes the initial analysis on this dataset.\n",
    "\n",
    "The command below allows to summarize each variable and retrieve the main statistical characteristics. \n",
    "\n",
    "```python\n",
    "df.describe()\n",
    "```\n",
    "\n",
    "The first thing to be noticed is at 'Sacado' variable - the amount of money withdrawn. \n",
    "\n",
    "\n",
    "| Statistical Measurement | Value        |\n",
    "| :---------------------: | :----------: |\n",
    "| Mean                    | -88.602261\t |\n",
    "| Standard Deviation      | 247.302373\t |\n",
    "| Min                     | -19656.53    |\n",
    "| Max                     | -0.00        |\n",
    "\n",
    "How can be observed on this chart. The behaviour of 'Sacado' variable is pretty weird. First of all, this variable presents the highest standard deviation of all variables (247.30).\n",
    "\n",
    "```python\n",
    "df.describe().loc['std'].sort_values(ascending=False).head()\n",
    "```\n",
    "\n",
    "The mean, min and max values are pretty strange as well - with all of them being negative or null values. How this values could be negative/null values if this variable it was meant to represent the total withdrawn value of the transaction?\n",
    "\n",
    "__Possible errors:__\n",
    "\n",
    "- Acquistion errors?\n",
    "- Parsing issues?\n",
    "\n",
    "Other variables seems to behave pretty well (well distributed along the mean value - almost a normal curve) - even didn't knowing what they represent (the max values are high? the min values are low?).\n",
    "\n",
    "_obs: Even with the lower deviation. On training, a simple normalization will be made on this dataset._\n",
    "\n",
    "-------------\n",
    "\n",
    "#### Does this dataset is non-balanced?\n",
    "\n",
    "This section aims on checking if the dataset is non-balanced - are more frauds than non-frauds? Vice-Versa?\n",
    "\n",
    "Table below assumes that the y variable - Fraude - has only 2 unique values - presented in table.\n",
    "\n",
    "```python\n",
    "df.Fraude.unique()\n",
    "```\n",
    "\n",
    "| Value | Meaning   | Total    | Percentage |\n",
    "| :---: | :-------: | :------: | :--------: |\n",
    "| 0     | Non Fraud | 149.763  | 0,9984     |\n",
    "| 1     | Fraud     | 237      | 0,0015     |\n",
    "\n",
    "As can be observed on the table above. It's been assumed that 0 represents a non-fraudulent transaction and 1 represents a fraudulent transaction. This dataset is pretty unbalanced - with less than 1 % being fraudulent transactions (237 data entries). This scenario, on model training steps would be a problem - the model probably will be overfitted in fraudulents occurrences. To prevent it, it must be added some new - artificially generated or naturally acquired - fraudulents data entries.\n",
    "\n",
    "----------------------------------------\n",
    "\n",
    "#### Dimensionality Reduction\n",
    "\n",
    "This section aims on reduct the dimensionality of this dataset.\n",
    "\n",
    "__It can be used:__\n",
    "\n",
    "- linear regression, correlation and statistically relevance;\n",
    "- PCA;\n",
    "\n",
    "_obs: despite the robustness of PCA, some articles presents issues on its performance - losing to simpler techniques._\n",
    "\n",
    "-----------------------\n",
    "\n",
    "#### Building Predictors\n",
    "\n",
    "Three models will be implemented - if none of them supply the needs, new models could be choosen - and compared. Not only the assertiveness rate will be considered. The most problematic issue are False Negatives occurences - when the occurrence is Fraudulent however the model classified it as a Non-fraudulent occurence - if this happens the model will \"lose\" some points. False positives could be sent to a human validation - not so problematic as False Negatives.\n",
    "\n",
    "__Models__:\n",
    "- Linear Regression;\n",
    "- Support Vector Machines;\n",
    "- Random Forest.\n",
    "\n",
    "_obs: Random forest classifier, when compared with other classifiers, presented 1 advantage point and 1 disavantage point - it wasn't able to converge in polynomial time (when compared to Linear Regression and SVM's times - much bigger time to converge), however it presented the most precise classifiers between all 3 - With lesser False Negatives._\n",
    "\n",
    "_obs: Due the results. A grid search with SVM and Random Forest will not be needed_\n",
    "\n",
    "On this scenario, even with time complexity being an issue - when pipelined in production - the random forest will be chosen into \"production\" step.\n",
    "\n",
    "_obs: My concerns come to reality. All 3 models classifies pretty well non fraudulent transactions. However - due the lack of data - all 3 - at some point and in some level - presented an overfitting in classifying Fraudulent transactions - a further study will be made with Random Forest - the model with the most precise behaviour._\n",
    "\n",
    "------------------------\n",
    "\n",
    "#### Using selected  model - Random Forest - in \"production\" environment\n",
    "\n",
    "__Steps:__\n",
    "- Normalize data;\n",
    "- Split data;\n",
    "- fit and predict model.\n",
    "\n",
    "Due the normalization and - mainly - the dim reduction, the Random Forest's time performance has increased. During the development time the fitting time was about 0:01:50.102289. In _\"production\"_ time this time has decresead to 0:00:48.581284 - a time reduction of 0:01:01.521005.\n",
    "\n",
    "```python\n",
    "str(datetime.datetime.strptime('0:01:50.102289', '%H:%M:%S.%f') -\n",
    "    datetime.datetime.strptime('0:00:48.581284', '%H:%M:%S.%f'))\n",
    "```\n",
    "\n",
    "The model precision is presented in table below:\n",
    "\n",
    "\n",
    "| Environment      | Train  | Test   | Validation | Overfitting |\n",
    "| :--------------: | :----: | :----: | :--------: | :---------: |\n",
    "| Dev              | 1,0000 | 0,9995 | 0,9995     | ----------- |\n",
    "| Prod             | 1,0000 | 0,9994 | 0,9993     | 0,7115      |\n",
    "\n",
    "As could be observed. During the _\"dev\"_ time - without normalization and dimension reduction - the model achieved good results. The normalization - minmax normalization - and dimension reduction - from 29 variables to only 9 - achieved overwhelming results in time complexity - as mentioned before. Nevertheless, as mentioned, a further study on this model performance was required - __does the lack of fraudlent data overfits the model?__. \n",
    "To test it the test and validation dataframes were merged and only fraudulent data was selected - resulting in a dataframe with 52 data entries (didn't include the train fraudulent data) - and passed to model predictor. The model should've predicted all as Frauds, however, the most problematic case appeared - Frauds classified as Non Frauds (False Negatives).<br>\n",
    "In summary, a good non-fraud classifier was built - with little cases of False Positives (Non Frauds classified as Fraud) - however, as mentioned before, the most problematic case - False Negatives - occur more frequently. To correct it, appart from the selected model - since simpler until the most robust ones (Linear Regression, Bayes, Adaboost, Tree Classifiers, SVM's or Neural Nets) - it needed to add new fraudulent data entries on this dataset - artificially generated or not.\n",
    "\n",
    "-----------------------------------------------------"
   ]
  }
 ],
 "metadata": {
  "kernelspec": {
   "display_name": "Python 3",
   "language": "python",
   "name": "python3"
  },
  "language_info": {
   "codemirror_mode": {
    "name": "ipython",
    "version": 3
   },
   "file_extension": ".py",
   "mimetype": "text/x-python",
   "name": "python",
   "nbconvert_exporter": "python",
   "pygments_lexer": "ipython3",
   "version": "3.6.9"
  },
  "pycharm": {
   "stem_cell": {
    "cell_type": "raw",
    "metadata": {
     "collapsed": false
    },
    "source": []
   }
  }
 },
 "nbformat": 4,
 "nbformat_minor": 1
}
